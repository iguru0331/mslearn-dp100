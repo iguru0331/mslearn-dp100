{
  "cells": [
    {
      "cell_type": "markdown",
      "source": [
        "# 10.Azure ML SDKの概要\n",
        "\n",
        "## Azure Machine Learning ワークスペース\n",
        "\n",
        "ワークスペースは、機械学習ワークロードに関連付けられた実験、データ、コンピューティング先およびその他の資産のコンテキスト。\n",
        "\n",
        "### Machine Learning資産用のワークスペース\n",
        "\n",
        "ワークスペースは、関連する一連の機械学習リソースの境界を定義するもの。  \n",
        "ワークスペースを使用することで、プロジェクト、デプロイ環境(テストと運用など)、チーム、またはその他の編成の原則に基づいて機械学習リソースをグループ化できる。\n",
        "\n",
        "ワークスペース内には以下の資産がある。\n",
        "\n",
        "- 開発、トレーニング、デプロイのためのコンピューティング先\n",
        "- 実験及びモデルトレーニング用のデータ\n",
        "- 共有コードとドキュメントを含むノートブック\n",
        "- 実験(履歴、ログに記録されたメトリック、出力含む)\n",
        "- トレーニング済みのモデル\n",
        "\n",
        "### Azureリソースとしてのワークスペース\n",
        "\n",
        "ワークスペースはAzureリソースなので、ワークスペースをsupportするために必要なその他の関連するAzureリソースとともに、  \n",
        "Azureサブスクリプションのリソースグループ内に定義される。\n",
        "\n",
        "![image.png](attachment:a9acd393-d1d5-4f58-98a2-e01e0390269a.png)\n",
        "\n",
        "ワークスペースとともに作成されるAzureリソースは次のものがある。\n",
        "\n",
        "- ストレージアカウント\n",
        "    - ワークスペースで使用されるファイルと、実験およびモデルトレーニング用のデータを格納するために使用される\n",
        "- Application Insights\n",
        "    - ワークスペース内で予測サービスを監視するために使用される\n",
        "- Azure Key Vault\n",
        "    - ワークスペースで使用される認証キーや資格情報などのシークレットを管理するために使用される\n",
        "- コンテナーレジストリ\n",
        "    - デプロイされたモデルのコンテナーを管理するために必要に応じて作成される\n",
        "\n",
        "### ロールベースのアクセス制御\n",
        "\n",
        "ワークスペースにはロールベースの承認ポリシーを割り当てることができる。  \n",
        "これにより、特定のAzure Active Directoryプリンシパルが実行できるアクションを制限するアクセス許可を管理できる。\n",
        "\n",
        "### ワークスペースの作成\n",
        "\n",
        "以下の方法でワークスペースを作成できる。\n",
        "\n",
        "- Azureポータルで、サブスクリプション、リソースグループ、ワークスペース名を指定して、新しいMachine Learningリソースを作成。\n",
        "- Azure ML Python SDKを使用して、ワークスペースを作成するコードを実行する。  \n",
        "たとえば、次のコードによって`aml-workspace`という名前のワークスペースが作成される。  \n",
        "※Azure ML SDK for Pythonがインストールされ、有効なサブスクリプションIDが指定されていることを前提としている。"
      ],
      "metadata": {},
      "id": "0a1b6d88-25ed-4ab4-9e19-8dbd1d604422"
    },
    {
      "cell_type": "markdown",
      "source": [
        "```\n",
        "from azureml.core import Workspace\n",
        "    \n",
        "    ws = Workspace.create(name='aml-workspace', \n",
        "                      subscription_id='123456-abc-123...',\n",
        "                      resource_group='aml-resources',\n",
        "                      create_resource_group=True,\n",
        "                      location='eastus'\n",
        "                     )\n",
        "```"
      ],
      "metadata": {},
      "id": "d9c382e3-4b07-46aa-9b78-5ca88a642c95"
    },
    {
      "cell_type": "markdown",
      "source": [
        "- Azure ML CLI拡張機能を含むAzure CLIを使用する。  \n",
        "例えば次のコマンドを使用できる　※aml-resourcesという名前のリソースグループが既に作成されていることを前提としてる\n",
        "\n",
        "```\n",
        "az ml workspace create -w 'aml-workspace' -g 'aml-resources'\n",
        "```\n",
        "\n",
        "- Azure Resource Managerテンプレートを使用する。"
      ],
      "metadata": {},
      "id": "fad3240e-113b-4c88-a632-22df5679b305"
    },
    {
      "cell_type": "markdown",
      "source": [
        "# 演習 - ワークスペースを作成する\n",
        "\n",
        "1. Azureポータルで、新しいMLリソースを作成する。\n",
        "\n",
        "    - サブスクリプション\n",
        "    - リソースグループ\n",
        "    - ワークスペース名\n",
        "    - リージョン\n",
        "    - ストレージアカウント\n",
        "    - Key vault\n",
        "    - アプリケーション insights\n",
        "    - コンテナーレジストリ\n",
        "\n",
        "![image.png](attachment:c495cc31-10bb-4f0d-872e-a1e2d094a096.png)\n",
        "\n",
        "※注:Azure MLワークスペースを作成する際には、高度なオプションを使用してプライベートエンドポイントを介したアクセスを制御したり、  \n",
        "データ暗号化のカスタムキーを指定したりすることができる。\n",
        "\n",
        "2. ワークスペースとその関連リソースが作成されたら、ポータルでワークスペースを表示する。"
      ],
      "metadata": {},
      "id": "a020895f-4458-429f-b6f7-0f524f39b36a"
    },
    {
      "cell_type": "markdown",
      "source": [
        "## Azure ML Studioを見る\n",
        "\n",
        "Azure MLスタジオでは、ワークスペースを操作するための専用Webポータルを提供している。  \n",
        "スタジオを起動することで、Azure MLスタジオへ移動することができる。\n",
        "\n",
        "![image.png](attachment:173e5b4c-7fd6-4cff-914c-8fcb56792270.png)\n",
        "\n",
        "以下のページを使って、ワークスペースのリソースを管理することができる。\n",
        "\n",
        "![image.png](attachment:a5b4c642-5937-4e5d-b1cc-4236e8efb732.png)"
      ],
      "metadata": {},
      "id": "64709699-e651-4fd1-89f7-0d29c6e6ba57"
    },
    {
      "cell_type": "markdown",
      "source": [
        "## コンピューティングインスタンスの作成\n",
        "\n",
        "Azure MLのメリットの一つは、実験やトレーニングスクリプトを大規模に実行できるクラウドベースのコンピューティングを作成できること。\n",
        "\n",
        "![image.png](attachment:56c1da4c-29c0-4267-ae7c-eeb18ee19915.png)\n",
        "\n",
        "1. **コンピューティング**を表示する。  \n",
        "ここでは、データサイエンス活動のためのコンピューティングリソースを管理する。作成できるリソースは4種類\n",
        "\n",
        "    - **コンピューティングインスタンス**\n",
        "        - データサイエンティストがデータやモデルを扱うために使用する開発ワークステーション\n",
        "    - **コンピューティングクラスター**\n",
        "        - 実行コードをオンデマンドに処理するためのスケーラブルな仮想マシンのクラスター\n",
        "    - **推論クラスター**\n",
        "        - 訓練されたモデルを使用する予測サービスの導入対象\n",
        "    - **アタッチされたコンピューティング**\n",
        "        - 他のAzureコンピューティングリソースへのリンク  \n",
        "        Virtual MachineやAzure Databricksクラスターなど、他のAzureコンピューティングへのリンク\n",
        "\n",
        "2. コンピューティングインスタンスより、新しいコンピューティングインスタンスを追加する。  \n",
        "このインスタンスは、ノートブックでコードを実行するためのワークステーションとして使用する。\n",
        "\n",
        "![image.png](attachment:c7ab5592-8adb-418b-8bb3-83003a71067b.png)\n",
        "\n",
        "3. コンピューティングが作成されるまで待つ。\n"
      ],
      "metadata": {},
      "id": "c015d467-6ddc-47c3-b698-0e9c7c8c8299"
    },
    {
      "cell_type": "markdown",
      "source": [
        "## ノートブックのクローンおよび実行\n",
        "\n",
        "データサイエンスや機械学習の実験の多くは、ノートブックでコードを実行することで行われる。  \n",
        "あなたのコンピューティングインスタンスには、広範な作業に使用できる全機能のPythonノートブック環境が含まれているが、  \n",
        "基本的なノートブックの編集には、Azure MLスタジオの組み込みノートブックページを使用できる。\n",
        "\n",
        "1. Azure MLスタジオで**Notebooks**を開く\n",
        "\n",
        "![image.png](attachment:09a8a9bb-1706-4af1-b662-dfb2c3c8dca4.png)\n",
        "\n",
        "2. ターミナルを開き、`git`コマンドでノートブックのクローンを取得する\n",
        "\n",
        "![image.png](attachment:59a8a356-5dd8-487d-ae57-ba0ff1f808a0.png)\n",
        "\n",
        "3. ターミナルを閉じ、ファイルペイン上で更新してからノートブックを選択することで、ノートブックを開くことができる。\n",
        "\n",
        "![image.png](attachment:80a107b1-25cd-47b1-920e-b76e44865517.png)"
      ],
      "metadata": {},
      "id": "fb16f769-e2c8-4957-841e-48f0c1d1fb2e"
    },
    {
      "cell_type": "markdown",
      "source": [
        "test"
      ],
      "metadata": {},
      "id": "85252155-b992-48a4-af98-ccb82602b2db"
    },
    {
      "cell_type": "markdown",
      "source": [
        "# Azure Machine Learningでノートブックを始める\n",
        "\n",
        "Azure Machine Learningは機械学習を作成・管理するためのクラウドサービスで、  \n",
        "データサイエンスや機械学習の作業の多くは、このようなノートブックで実現できる。\n",
        "\n",
        "## Azure ML Python SDK\n",
        "\n",
        "このケースでは、Azure MLコンピューティングインスタンス上のConda環境でノートブックを実行している。  \n",
        "この環境はデフォルトでコンピューティングインスタンスにPythonパッケージがインストールされており、  \n",
        "データサイエンティストが通常使用する一般的なPythonパッケージが含まれている。\n",
        "\n",
        "また、Azure ML Python SDKも含まれており、これはAzure MLワークスペースのリソースを使用するコードを書くことができるPythonパッケージである。\n",
        "\n",
        "以下のセルを実行して、`azureml-core`パッケージをインポートし、インストールされているSDKのバージョンを確認する。"
      ],
      "metadata": {
        "nteract": {
          "transient": {
            "deleting": false
          }
        }
      },
      "id": "4ebf523c-907f-459d-9270-a7e144ea0b29"
    },
    {
      "cell_type": "code",
      "source": [
        "import azureml.core\n",
        "\n",
        "print(\"Ready to use Azure ML\", azureml.core.VERSION)"
      ],
      "outputs": [
        {
          "output_type": "stream",
          "name": "stdout",
          "text": [
            "Ready to use Azure ML 1.28.0\n"
          ]
        }
      ],
      "execution_count": 1,
      "metadata": {
        "collapsed": true,
        "jupyter": {
          "source_hidden": false,
          "outputs_hidden": false
        },
        "nteract": {
          "transient": {
            "deleting": false
          }
        },
        "gather": {
          "logged": 1623584093970
        }
      },
      "id": "b36c7170-c27b-453b-a861-a70640890d0e"
    },
    {
      "cell_type": "markdown",
      "source": [
        "## ワークスペースの接続\n",
        "\n",
        "すべての実験と関連するリソースは、Azure MLのワークスペース内で管理される。  \n",
        "既存のワークスペースに接続するか、Azure ML SDKを使用して新しいワークスペースを作成することができる。\n",
        "\n",
        "ほとんどの場合、ワークスペースの接続情報JSONファイルに保存する必要がある。\n",
        "これにより、AzureのサブスクリプションIDなどの詳細を覚えておく必要がなく、簡単に接続することができる。\n",
        "\n",
        "JSONファイルは、Azureポータルのワークスペース用ブレード、またはAzure MLスタジオのワークスペース詳細ペインからダウンロードできるが、  \n",
        "ワークスペース内でコンピューティングインスタンスを使用している場合は、構成ファイルはすでにルートフォルダにダウンロードされている。\n",
        "\n",
        "以下のコードは、設定ファイルを使用してワークスペースに接続している。  \n",
        "> 注:ノーツブックセッションでワークスペースに初めて接続した時、Azureにサインインするように促されることがある。  \n",
        "サインインに成功したら、開いていたブラウザタブを閉じ、このノートブックに戻ることができる。"
      ],
      "metadata": {
        "nteract": {
          "transient": {
            "deleting": false
          }
        }
      },
      "id": "649a20dd-390b-49a0-a95b-ec9a0ce31528"
    },
    {
      "cell_type": "code",
      "source": [
        "from azureml.core import Workspace\n",
        "\n",
        "ws = Workspace.from_config()\n",
        "print(ws.name, \"loaded\")"
      ],
      "outputs": [
        {
          "output_type": "stream",
          "name": "stdout",
          "text": [
            "20210613 loaded\n"
          ]
        }
      ],
      "execution_count": 2,
      "metadata": {
        "collapsed": true,
        "jupyter": {
          "source_hidden": false,
          "outputs_hidden": false
        },
        "nteract": {
          "transient": {
            "deleting": false
          }
        },
        "gather": {
          "logged": 1623584445062
        }
      },
      "id": "b02143f6-be55-4861-a278-66eb72bee7ab"
    },
    {
      "cell_type": "markdown",
      "source": [
        "## ワークスペースでAzure MLリソースを表示する\n",
        "\n",
        "ワークスペースの接続ができたので、リソースを扱うことができる。  \n",
        "例えば、以下のコードを使用して、ワークスペースのコンピューティングリソースを列挙することができる。"
      ],
      "metadata": {
        "nteract": {
          "transient": {
            "deleting": false
          }
        }
      },
      "id": "8b4cad38-11d2-42d4-9e0d-124af74ad024"
    },
    {
      "cell_type": "code",
      "source": [
        "print(\"Compute Resources:\")\n",
        "for compute_name in ws.compute_targets:\n",
        "    compute = ws.compute_targets[compute_name]\n",
        "    print(\"\\t\", compute.name, ':', compute.type)"
      ],
      "outputs": [
        {
          "output_type": "stream",
          "name": "stdout",
          "text": [
            "Compute Resources:\n",
            "\t mslearn-20210613a : ComputeInstance\n"
          ]
        }
      ],
      "execution_count": 3,
      "metadata": {
        "collapsed": true,
        "jupyter": {
          "source_hidden": false,
          "outputs_hidden": false
        },
        "nteract": {
          "transient": {
            "deleting": false
          }
        },
        "gather": {
          "logged": 1623584477269
        }
      },
      "id": "5071f078-6ce7-4866-b06d-1c3607cbd55e"
    },
    {
      "cell_type": "code",
      "source": [],
      "outputs": [],
      "execution_count": null,
      "metadata": {
        "collapsed": true,
        "jupyter": {
          "source_hidden": false,
          "outputs_hidden": false
        },
        "nteract": {
          "transient": {
            "deleting": false
          }
        }
      },
      "id": "1cf84b24-104b-4f8b-b78d-7c7ca13c9442"
    }
  ],
  "metadata": {
    "kernelspec": {
      "name": "python3",
      "language": "python",
      "display_name": "Python 3"
    },
    "language_info": {
      "name": "python",
      "version": "3.6.9",
      "mimetype": "text/x-python",
      "codemirror_mode": {
        "name": "ipython",
        "version": 3
      },
      "pygments_lexer": "ipython3",
      "nbconvert_exporter": "python",
      "file_extension": ".py"
    },
    "kernel_info": {
      "name": "python3"
    },
    "microsoft": {
      "host": {
        "AzureML": {
          "notebookHasBeenCompleted": true
        }
      }
    },
    "nteract": {
      "version": "nteract-front-end@1.0.0"
    }
  },
  "nbformat": 4,
  "nbformat_minor": 5
}
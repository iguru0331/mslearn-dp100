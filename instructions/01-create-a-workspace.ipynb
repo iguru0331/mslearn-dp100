{
 "cells": [
  {
   "cell_type": "markdown",
   "id": "70ca89ab-db1e-4f88-a07b-7c379d5bdaed",
   "metadata": {},
   "source": [
    "# 01.ワークスペースの作成"
   ]
  },
  {
   "cell_type": "markdown",
   "id": "49b59259-2b06-4582-a24a-50196a710aa6",
   "metadata": {},
   "source": [
    "1. In the [Azure portal](https://portal.azure.com), create a new **Machine Learning** resource, specifying the following settings:\n",
    "\n",
    "    - **Subscription**: *Your Azure subscription*\n",
    "    - **Resource group**: *Create or select a resource group*\n",
    "    - **Workspace name**: *Enter a unique name for your workspace*\n",
    "    - **Region**: *Select the geographical region closest to you*\n",
    "    - **Storage account**: *Note the default new storage account that will be created for your workspace*\n",
    "    - **Key vault**: *Note the default new key vault that will be created for your workspace*\n",
    "    - **Application insights**: *Note the default new application insights resource that will be created for your workspace*\n",
    "    - **Container registry**: None (*one will be created automatically the first time you deploy a model to a container*)\n",
    "\n",
    "    > **Note**: When you create an Azure Machine Learning workspace, you can use some advanced options to restrict access through a *private endpoint* and specify custom keys for data encryption. We won't use these options in this exercise - but you should be aware of them!\n",
    "\n",
    "2. When the workspace and its associated resources have been created, view the workspace in the portal.\n",
    "\n",
    "## Explore Azure Machine Learning studio\n",
    "\n",
    "You can manage some workspace assets in the Azure portal, but for data scientists, this tool contains lots of irrelevant information and links that relate to managing general Azure resources. *Azure Machine Learning studio* provides a dedicated web portal for working with your workspace.\n",
    "\n",
    "1. In the Azure portal blade for your Azure Machine Learning workspace, click the link to launch studio; or alternatively, in a new browser tab, open [https://ml.azure.com](https://ml.azure.com). If prompted, sign in using the Microsoft account you used in the previous task and select your Azure subscription and workspace.\n",
    "\n",
    "    > **Tip** If you have multiple Azure subscriptions, you need to choose the Azure *directory* in which the subscription is defined; then choose the subscription, and finally choose the workspace.\n",
    "\n",
    "2. View the Azure Machine Learning studio interface for your workspace - you can manage all of the assets in your workspace from here.\n",
    "3. In Azure Machine Learning studio, toggle the &#9776; icon at the top left to show and hide the various pages in the interface. You can use these pages to manage the resources in your workspace.\n",
    "\n",
    "## Create a compute instance\n",
    "\n",
    "One of the benefits of Azure Machine Learning is the ability to create cloud-based compute on which you can run experiments and training scripts at scale.\n",
    "\n",
    "1. In Azure Machine Learning studio, view the **Compute** page. This is where you'll manage compute resources for your data science activities. There are four kinds of compute resource you can create:\n",
    "    - **Compute instances**: Development workstations that data scientists can use to work with data and models.\n",
    "    - **Compute clusters**: Scalable clusters of virtual machines for on-demand processing of experiment code.\n",
    "    - **Inference clusters**: Deployment targets for predictive services that use your trained models.\n",
    "    - **Attached compute**: Links to other Azure compute resources, such as Virtual Machines or Azure Databricks clusters.\n",
    "\n",
    "    For this exercise, you'll create a compute instance so you can run some code in your workspace.\n",
    "\n",
    "2. On the **Compute instances** tab, add a new compute instance with the following settings. You'll use this as a workstation to run code in notebooks.\n",
    "    - **Region**: *The same region as your workspace*\n",
    "    - **Virtual machine type**: CPU\n",
    "    - **Virtual machine size**: Standard_DS11_v2 *(this is not listed as a recommended option - we're using it in this course to minimize cost while providing acceptable performance)*\n",
    "    - **Compute name**: *enter a unique name*\n",
    "    - **Enable SSH access**: Unselected *(you can use this to enable direct access to the virtual machine using an SSH client)*\n",
    "    - **Show advanced settings**: Note the following settings, but do not select them:\n",
    "        - **Enable virtual network**: Unselected *(you would typically use this in an enterprise environment to enhance network security)*\n",
    "        - **Assign to another user**: Unselected *(you can use this to assign a compute instance to a data scientist)*\n",
    "3. Wait for the compute instance to start and its status to change to **Running**.\n",
    "\n",
    "## Clone and run a notebook\n",
    "\n",
    "A lot of data science and machine learning experimentation is performed by running code in *notebooks*. Your compute instance includes fully featured Python notebook environments (*Jupyter* and *JuypyterLab*) that you can use for extensive work; but for basic notebook editing, you can use the built-in **Notebooks** page in Azure Machine learning studio.\n",
    "\n",
    "1. In Azure Machine Learning studio, view the **Notebooks** page.\n",
    "2. Open a **Terminal**, and ensure that its **Compute** is set to your compute instance and that the current path is the **/users/*your-user-name*** folder.\n",
    "3. Enter the following command to clone a Git repository containing notebooks, data, and other files to your workspace:\n",
    "\n",
    "    ```bash\n",
    "    git clone https://github.com/MicrosoftLearning/mslearn-dp100\n",
    "    ```\n",
    "\n",
    "4. When the command has completed, in the **My files** pane, click **&#8635;** to refresh the view and verify that a new **/users/*your-user-name*/mslearn-dp100** folder has been created. This folder contains multiple **.ipynb** notebook files.\n",
    "5. Close the terminal pane, terminating the session.\n",
    "6. In the **/users/*your-user-name*/mslearn-dp100** folder, open the **Get Started with Notebooks** notebook. Then read the notes and follow the instructions it contains.\n",
    "\n",
    "> **Tip**: To run a code cell, select the cell you want to run and then use the **&#9655;** button to run it.\n",
    "\n",
    "## Stop your compute instance\n",
    "\n",
    "If you've finished exploring Azure Machine Learning for now, you should shut down your compute instance to avoid incurring unnecessary charges in your Azure subscription.\n",
    "\n",
    "1. In Azure Machine Learning studio, on the **Compute** page, select your compute instance.\n",
    "2. Click **Stop** to stop your compute instance. When it has shut down, its status will change to **Stopped**.\n"
   ]
  },
  {
   "cell_type": "markdown",
   "id": "660e3329-f70f-4f59-9dbb-be81ba1bf20c",
   "metadata": {},
   "source": [
    "# Azure Machine Learningワークスペースの作成と探索\n",
    "\n",
    "## ワークスペースの作成\n",
    "\n",
    "ワークスペースとはその名の通り、機械学習プロジェクトに取り組むために必要なAzure MLのリソースを一元的に管理する場所。  \n",
    "Azureポータル上で新しいMLリソースを作成することができる。\n",
    "\n",
    "注:Azure MLワークスペースを作成する際には\n",
    "\n"
   ]
  }
 ],
 "metadata": {
  "kernelspec": {
   "display_name": "Python 3",
   "language": "python",
   "name": "python3"
  },
  "language_info": {
   "codemirror_mode": {
    "name": "ipython",
    "version": 3
   },
   "file_extension": ".py",
   "mimetype": "text/x-python",
   "name": "python",
   "nbconvert_exporter": "python",
   "pygments_lexer": "ipython3",
   "version": "3.9.1"
  }
 },
 "nbformat": 4,
 "nbformat_minor": 5
}

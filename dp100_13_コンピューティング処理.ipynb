{
 "cells": [
  {
   "cell_type": "markdown",
   "id": "8dc23546",
   "metadata": {},
   "source": [
    "# dp100_13 コンピューティング処理"
   ]
  },
  {
   "cell_type": "markdown",
   "id": "548fe571",
   "metadata": {},
   "source": [
    "## 環境について\n",
    "\n",
    "- 環境は`Environment`クラスによってカプセル化されている\n",
    "- 仕様ファイルからの環境作成する場合、ymlファイルを作成した上で\n",
    "    - `Environment.from_conda_specification(name='環境名', file_path='ymlファイル')`\n",
    "- 既存のConda環境から環境作成する場合\n",
    "    - `Environment.from_existing_conda_environment(name='環境名', conda_environment_name='既存環境名')`\n",
    "- パッケージを指定した環境の作成\n",
    "    - `deps = CondaDependencies.create(conda_packages=['パッケージ名'],pip_packages=['azureml-defaults']`\n",
    "    - `env.python.conda_dependencies = deps`として環境を結びつける\n",
    "\n",
    "- 既存環境を再利用しない場合、`env.python.user_managed_dependencies = False`"
   ]
  },
  {
   "cell_type": "markdown",
   "id": "edd56c94",
   "metadata": {},
   "source": [
    "## 環境コンテナ\n",
    "\n",
    "- `docker_runtime_config=DockerConfiguration(use_docker=True)`はデフォルトで有効\n",
    "    - 仮に`False`だった場合は、環境はコンピューティングターゲットに直接作成される"
   ]
  },
  {
   "cell_type": "markdown",
   "id": "6275caf3",
   "metadata": {},
   "source": [
    "## 環境の登録と再利用\n",
    "\n",
    "- `Environment.register(workspace=ws)`で環境を登録\n",
    "- `Environment.list(workspace=ws)`でワークスペースに登録されている環境を表示できる\n",
    "- `Environment.get(workspace=ws, name='env')`で環境を取得し、**ScriptRunConfig**に割り当てることができる"
   ]
  },
  {
   "cell_type": "markdown",
   "id": "cf49c7f9",
   "metadata": {},
   "source": [
    "## コンピューティング\n",
    "\n",
    "- コンピューティングの種類\n",
    "    - ローカルコンピューティング\n",
    "    - コンピューティングクラスター\n",
    "    - アタッチされたコンピューティング\n",
    "    - 推論クラスターは推論サービスとしてデプロイするときに使うもの\n",
    "- コンピューティング先の作成\n",
    "    - コンピューティング設定の定義は`compute_config = AmlCompute.provisioning_configuration`\n",
    "    - コンピューティング作成は`aml_cluster = ComputeTarget.create(ws, compute_name, compute_config)`\n",
    "    - 作成待ちは`aml_cluster.wait_for_completion()`\n",
    "    - ステータスは`aml_cluster.get_status()`\n",
    "    - 既存コンピューティング使いたいなら`aml_cluster = ComputeTarget(workspace=ws, name=compute_name)`\n",
    "- AzureMLワークスペース外のコンピューティングリソース使う時は`ComputeTarget.attach()`\n",
    "- コンピューティング先の指定は`ScriptRunConfig`内の`compute_target`\n",
    "    - 名前指定する代わりに`ComputeTarget`オブジェクトも指定可能"
   ]
  },
  {
   "cell_type": "markdown",
   "id": "d1427caf",
   "metadata": {},
   "source": [
    "詳細情報\n",
    "\n",
    "- AzureMLの環境:https://docs.microsoft.com/azure/machine-learning/how-to-use-environments\n",
    "- AzureMLのコンピューティングターゲット:https://docs.microsoft.com/azure/machine-learning/concept-compute-target"
   ]
  },
  {
   "cell_type": "markdown",
   "id": "205f7e28",
   "metadata": {},
   "source": [
    "## 知識チェック\n",
    "\n",
    "1. 実験を実行するために Azure Machine Learning Python SDK を使用しています。  \n",
    "Conda 構成 (.yml) ファイルから環境を作成する必要があります。 Environment クラスのどのメソッドを使用する必要がありますか?\n",
    "- create\n",
    "- from_conda_specification\n",
    "- from_existing_conda_environment\n",
    "\n",
    "2. 画像処理装置 (GPU) を必要とするトレーニング実験用のコンピューティング先を作成する必要があります。  \n",
    "必要に応じて複数のノードが自動的に開始されるように、コンピューティングをスケーリングできるようにすることを望んでいます。  \n",
    "どのような種類のコンピューティング先を作成する必要がありますか?\n",
    "- コンピューティング インスタンス\n",
    "- コンピューティング クラスター\n",
    "- 推論クラスター\n",
    "\n",
    "↓解答"
   ]
  },
  {
   "cell_type": "markdown",
   "id": "170d91a8",
   "metadata": {
    "jupyter": {
     "source_hidden": true
    }
   },
   "source": [
    "1. from_conda_specification\n",
    "    - 構成ファイルから環境を作成するには、from_conda_specification メソッドを使用します。  \n",
    "    create メソッドでは、conda パッケージと pip パッケージを明示的に指定する必要があり、  \n",
    "    from_existing_conda_environment にはコンピューター上の既存の環境が必要です。\n",
    "2. コンピューティング クラスター\n",
    "    - 必要に応じて自動的に開始される GPU 対応 VM の複数のノードを作成するには、コンピューティング クラスターを使用します。"
   ]
  }
 ],
 "metadata": {
  "kernelspec": {
   "display_name": "Python 3.8 - AzureML",
   "language": "python",
   "name": "python38-azureml"
  },
  "language_info": {
   "codemirror_mode": {
    "name": "ipython",
    "version": 3
   },
   "file_extension": ".py",
   "mimetype": "text/x-python",
   "name": "python",
   "nbconvert_exporter": "python",
   "pygments_lexer": "ipython3",
   "version": "3.8.1"
  }
 },
 "nbformat": 4,
 "nbformat_minor": 5
}

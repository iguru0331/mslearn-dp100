{
 "cells": [
  {
   "cell_type": "markdown",
   "id": "2af28043",
   "metadata": {},
   "source": [
    "# dp100_00_問題集\n",
    "\n",
    "## 全体的な話\n",
    "\n",
    "○○の理解ができていることって感じで出てくる、2-4問程度出てくる  \n",
    "評価されるスキルの内容のアウトラインの内容から出てくる\n",
    "\n",
    "\n",
    "以下の試験スキルの概要をダウンロードして、変更点をご確認ください。\n",
    "- Azure Machine Learning ワークスペースの設定 (30-35%)\n",
    "- 実験を実行し、モデルを訓練します (25-30%)\n",
    "- モデルを最適化して管理します (20-25%)\n",
    "- 配信可能性を展開して維持します (20-25%)"
   ]
  },
  {
   "cell_type": "markdown",
   "id": "34acf82d",
   "metadata": {},
   "source": [
    "## 問題集"
   ]
  },
  {
   "cell_type": "markdown",
   "id": "5e0737a9",
   "metadata": {},
   "source": [
    "- ワークスペースに格納されているJupyter Notebookの実行に使用できるクラウドベースの開発環境が必要です。  \n",
    "ノートブックは常にワークスペース内に残しておく必要がある。次の打ちどれを実行するか？\n",
    "\n",
    "    - ローカルコンピューターにVisual Studioコードをインストールする\n",
    "    - ワークスペースにコンピューティングインスタンスのコンピューティング先を作成する\n",
    "    - ワークスペースにトレーニングクラスターのコンピューティング先を作成する\n",
    "\n",
    "↓解答"
   ]
  },
  {
   "cell_type": "markdown",
   "id": "4f568d81",
   "metadata": {},
   "source": [
    "- ワークスペースにコンピューティングインスタンスのコンピューティング先を作成する\n",
    "    - AzureMLのことをいっていて、ノートブックはワークスペース内に残しておきたいということで、  \n",
    "     AzureMLのスタジオ内にDS内でノートブックを共有しあう機能があるので、  \n",
    "    それ使って同じワークスペースを編集していくとか、他の人のエクスペリエンスの内容を他の人と検証するとかできる"
   ]
  },
  {
   "cell_type": "markdown",
   "id": "8ce91283",
   "metadata": {},
   "source": [
    "- Workspace.from_config()メソッドを使用して、ローカルワークステーションのPython環境から、  \n",
    "Azure Machine Learningワークスペースに接続することを計画している。  \n",
    "既にpipを使用してazureml-sdkパッケージをインストールしている。他に何をすべきか？\n",
    "\n",
    "    - pip install azureml-sdk['notebooks']を実行して、追加のノートブックをインストールする\n",
    "    - ワークスペース用のconfig.jsonファイルを、ローカルのpythonコードファイルが含まれているフォルダーにダウンロードする\n",
    "    - ワークスペースにコンピューティングインスタンスのコンピューティング先を作成する\n",
    "\n",
    "↓解答"
   ]
  },
  {
   "cell_type": "markdown",
   "id": "23e5ab5e",
   "metadata": {},
   "source": [
    "- ワークスペース用のconfig.jsonファイルを、ローカルのpythonコードファイルが含まれているフォルダーにダウンロードする\n",
    "    - ローカルワークステーションのpython、DP-100のCSCの実習の中に、ローカル環境からワークスペースを操作する物がある  \n",
    "    ついついAzureっていうとクラウド上に全部あるように思えるが、手持ちのデスクトップの環境から、AzureMLをリモート操作できる。  \n",
    "    そのときに、実はこのpipを使用したazureml-sdkがインストールできている前提もあるが、このconfig.jsonファイルをフォルダにダウンロードにするということ。\n",
    "    このときにworkspace.from_configからコンフィグをもってくることが可能になる。  \n",
    "    この手のローカル側で操作するというのは試験に出てくるので、テスト前に一通り流しておいたほうが良い"
   ]
  },
  {
   "cell_type": "markdown",
   "id": "797d2d49",
   "metadata": {},
   "source": [
    "- DesignerでCSVファイルからパイプラインにデータを取り込む必要がある。次の打ちどれを実行するか？\n",
    "\n",
    "    - ファイルをアップロードしてデータセットを作成し、データセットをキャンバスにドラッグする\n",
    "    - CSVに変換モジュールをキャンバスに追加する\n",
    "    - キャンバスにデータの入力手動モジュールを追加する\n",
    "\n",
    "↓解答"
   ]
  },
  {
   "cell_type": "markdown",
   "id": "90fb9fa0",
   "metadata": {},
   "source": [
    "- ファイルをアップロードしてデータセットを作成し、データセットをキャンバスにドラッグする\n",
    "    - デザイナーでアップロードできる、ただアップロードするだけではだめで、データセットも作らないといけない。  \n",
    "    そしてそのデータセットをキャンバスにドラッグする"
   ]
  },
  {
   "cell_type": "markdown",
   "id": "a27967b0",
   "metadata": {},
   "source": [
    "- データフローを定義し、モデルをトレーニングするために、複数のモジュールが含まれるパイプラインを作成した。  \n",
    "次にパイプラインを実行する。まず何をするべきですか？\n",
    "\n",
    "    - パイプラインキャンバス上の各モジュールにコメントを追加する\n",
    "    - 日付と時刻が含まれるようにパイプラインの名前を変更する\n",
    "    -  ワークスペースにトレーニングクラスターを作成し、パイプラインのコンピューティング先として選択する\n",
    "\n",
    "↓解答"
   ]
  },
  {
   "cell_type": "markdown",
   "id": "e8c10dde",
   "metadata": {},
   "source": [
    "- ワークスペースにトレーニングクラスターを作成し、パイプラインのコンピューティング先として選択する\n",
    "    - ここではデータフローをキャンバスの上で作ったと、モデルトレーニングすることになるが、  \n",
    "    その前に実はクラスターを作っておかないといけない。学習するための  \n",
    "    ついついもともと準備された環境なんかワークスペースでやっていると知らないうちに誰かがクラスター作っていたりしているが、  \n",
    "    順番としてはパイプラインのフローを作り、パイプラインのフローをどこで学習、どのマシンを使うかって分かれているので、  \n",
    "    トレーニングさせるためのクラスターが必要なんだ、としっかり覚えておくこと. "
   ]
  },
  {
   "cell_type": "markdown",
   "id": "305b44c2",
   "metadata": {},
   "source": [
    "- Designerツールを使用してモデルをトレーニングするパイプラインを作成して実行した。  \n",
    "次にリアルタイムサービスとして公開する。まず何をするべきか？\n",
    "\n",
    "    1. トレーニングパイプラインから推論パイプラインを作成する\n",
    "    2. トレーニングパイプラインのクローンを別の名前で作成する\n",
    "    3. トレーニングパイプラインのコンピューティング先をAzure Kubernetesサービス(AKS)クラスターに変更する\n",
    "\n",
    "↓解答"
   ]
  },
  {
   "cell_type": "markdown",
   "id": "d403e2da",
   "metadata": {},
   "source": [
    "- トレーニングパイプラインから推論パイプラインを作成する\n",
    "    - デザイナーツールを作ってリアルタイムにその場でずっとまぁ出来上がったパイプラインを・・・これはAPIではなく、  \n",
    "    リアルタイムサービスとして公開するというのが癖で、  \n",
    "    APIとして公開するなら3となる。リアルタイムサービスなので、推論パイプラインなんだ、と覚えておく  \n",
    "    こういう引っ掛け問題も出てくる"
   ]
  },
  {
   "cell_type": "markdown",
   "id": "6b14b21d",
   "metadata": {},
   "source": [
    "- Azure Kubernetesサービスクラスターでリアルタイムサービスとしてパイプラインを公開した。  \n",
    "アプリケーション開発者は、RESTベースのクライアントからサービスを呼び出すことを計画している。  \n",
    "アプリケーション開発者はどのような情報を必要とするか？\n",
    "\n",
    "1. Designerでの推論パイプラインの名前\n",
    "2. 公開されたサービス用のエンドポイントURLとキー\n",
    "3. ワークスペース内のAKSコンピューティング先の名前\n",
    "\n",
    "答え:2  \n",
    "AzureMLではできあがったMLのモデルをサービスとしてAPIを公開できる  "
   ]
  },
  {
   "cell_type": "markdown",
   "id": "605d68ff",
   "metadata": {},
   "source": [
    "- Azure ML Python SDKを使用して、実験用のコードを記述する。実験の各実行から指標を記録し、各実行から簡単に指標を取得できるようにする必要がある。次の内どれを実行するか？\n",
    "\n",
    "1. 実験コードに'print'ステートメントを追加して、指標を出力する\n",
    "2. Runクラスの記録メソッドを使用して、名前付き指標を記録する\n",
    "3. 実験データをoutputsフォルダに保存する\n",
    "\n",
    "答え:2  \n",
    "namedラベルといったほうがわかりやすい、指標のことラベルと言ってた気がする"
   ]
  },
  {
   "cell_type": "markdown",
   "id": "c89412e6",
   "metadata": {},
   "source": [
    "- 実験としてスクリプトを実行する。実験のPythonランタイムコンテキストを定義するRunConfigオブジェクトを既に作成している。  \n",
    "スクリプトをランタイムコンテキストに関連付けるには、他にどのようなオブジェクトを作成する必要があるか？\n",
    "\n",
    "1. ScriptRunConfigオブジェクト\n",
    "2. Pipelineオブジェクト\n",
    "3. ComputeTargetオブジェクト\n",
    "\n",
    "答え:1  \n",
    "オブジェクト作成の問題、ここではRunConfigとどれを結びつけるかを考えると1になる　"
   ]
  },
  {
   "cell_type": "markdown",
   "id": "47916acd",
   "metadata": {},
   "source": [
    "- Scikit-Learnフレームワークを使用してモデルをトレーニングするスクリプトを作成した。  \n",
    "スクリプトを実験として実行するために使用するフレームワークに固有のEstimatorはどれか？\n",
    "\n",
    "1. Pytorch\n",
    "2. Tensorflow\n",
    "3. SKLearn\n",
    "\n",
    "答え:3"
   ]
  },
  {
   "cell_type": "markdown",
   "id": "b19e1e75",
   "metadata": {},
   "source": [
    "- モデルをトレーニングするための実験の構成を実行した。モデルをワークスペースに格納し、他の実験や公開済みサービスで使用できるようにしたいと考えている。次のうちどれを実行するか？\n",
    "\n",
    "1. ワークスペースでモデルを登録する\n",
    "2. モデルをファイルとしてコンピューティングインスタンスに保存する\n",
    "3. 実験スクリプトをノートブックとして保存する\n",
    "\n",
    "答え:1  \n",
    "トレーニングしただけじゃダメ、ワークスペースに出来上がったモデルを登録しておいて、他のエクスペリエンスで使ったり、その後公開サービスで・・・所謂モデルが出来上がった中から性能が良かったものをピックアップしてワークスペースに登録して共有活用する"
   ]
  },
  {
   "cell_type": "markdown",
   "id": "9f8762df",
   "metadata": {},
   "source": [
    "- AzureML python SDKを使用しており、ワークスペース内に規定のデータストアへの参照を作成する必要がある。次のコードを作成済み、度のコード業を追加する必要があるか？\n",
    "\n",
    "```\n",
    "from azureml.core import Wrokspace\n",
    "# ワークスペースを取得する\n",
    "ws = Workspace.from_config()\n",
    "#規定のデータストアを取得する\n",
    "```\n",
    "\n",
    "1. default_ds = ws.get_default_datastore()\n",
    "2. default_ds = ws.set_default_datastore()\n",
    "3. default_ds = ws.datastores.get('default')\n",
    "\n",
    "答え:1"
   ]
  },
  {
   "cell_type": "markdown",
   "id": "1e7bcea4",
   "metadata": {},
   "source": [
    "- いくつかのデータファイルをBLOBコンテナ内のフォルダにアップロードし、BLOBコンテナをデータストアとしてAzureMLワークスペースに登録した。  \n",
    "データファイルを読み込み、モデルをトレーニングする実験としてスクリプトを実行する、次のうちどれを実行するか？\n",
    "\n",
    "1. 実験スクリプトをデータファイルと同じBLOBフォルダに保存する\n",
    "2. データストアの場所のデータ参照を作成し、パラメータとしてスクリプトにわたす\n",
    "3. 実験スクリプトでAzureストレージアカウント名とキーのグローバル変数を作成する\n",
    "\n",
    "答え:2  \n",
    "3もやろうと思えばできるが、セキュリティ的な観点で微妙、クラスタ増えたときも微妙  \n",
    "でーたをどっからひっぱってくるかはデータストアで管理している"
   ]
  },
  {
   "cell_type": "markdown",
   "id": "efaee493",
   "metadata": {},
   "source": [
    "- モデルのトレーニングに使用する構造化データが含まれているCSVファイルが有る。ワークスペースでデータストアが定義されているAzure Storage BLOBコンテナ内のフォルダにファイルをアップロードする。次に、データのデータセットを作成して、Pandasデータフレームとして簡単に使用できるようにする。どの種類のデータセットを作成するか？\n",
    "\n",
    "1. ファイルデータセット\n",
    "2. 表形式データセット\n",
    "\n",
    "答え:2"
   ]
  },
  {
   "cell_type": "markdown",
   "id": "5980e52a",
   "metadata": {},
   "source": [
    "- ワークスペースにデータセットを登録している。Estimatorを使用して実行される実験スクリプトでデータセットを　使用するとする。次のうちどれを実行するか？\n",
    "\n",
    "1. データセットを名前付き入力としてEstimatorにわたす\n",
    "2. データセットのデータが格納されるデータストアの場所のデータ参照を作成し、パラメータとしてスクリプトに渡す\n",
    "3. 実験を実行する前に、データセットを使用してデータをCSVファイルとして実験スクリプトのフォルダーに保存する\n",
    "\n",
    "答え:2とみせかけて1\n",
    "\n",
    "実はpandaだったら間違いなく表形式だが、フォーマットについては言及されていない。ワークスペースに登録されたデータセット、標準で渡すときの事を考えている。  \n",
    "名前さえ指定しときゃOK"
   ]
  },
  {
   "cell_type": "markdown",
   "id": "5365fe6c",
   "metadata": {},
   "source": [
    "- Azure ML Python SDKを使用して、実験を実行する。Conda構成(yml)ファイルから環境を作成する必要がある。  \n",
    "Environmentクラスのどのメソッドを使用する必要があるか？\n",
    "\n",
    "1. create\n",
    "2. create_from_conda_specification\n",
    "3. create_from_existing_conda_environment\n",
    "\n",
    "答え:引掛けで2、3も一応使うが・・・  \n",
    "今回はConda構成ファイルから環境を新規で作成するので2。既存の環境を使って環境作成する時は3を使う  \n",
    "クラスターは特にそうで、ハマりがち"
   ]
  },
  {
   "cell_type": "markdown",
   "id": "56ffc3dd",
   "metadata": {},
   "source": [
    "- ワークスペースに環境を登録済みで、次のコードを使用して取得した。Estimatorを使用して実行する実験スクリプトに対して、  \n",
    "Pythonコンテキストとして環境を使用するとする、環境を割り当てるには、Estimatorのどのプロパティを設定する必要があるか？\n",
    "\n",
    "```\n",
    "from azureml.core import Environment, Estimator\n",
    "env = Environment.get(workspace=ws, name = 'my_environment')\n",
    "estimator = Estimator(entry_script='training_script.py', ...)\n",
    "```\n",
    "\n",
    "1. compute_target = env\n",
    "2. environment_definition = env\n",
    "3. source_directory = env\n",
    "\n",
    "答え:2  \n",
    "Estimatorの引数についれて触れている。enviroment_definition=envで渡しているが、ヒントはenv=environment.get〜  \n",
    "自分の環境からゲットして、そこをどこに割り当てるかーって考えるとわかりやすい"
   ]
  },
  {
   "cell_type": "markdown",
   "id": "c0a89682",
   "metadata": {},
   "source": [
    "- GPUを必要とするトレーニング実験用のコンピューティング先を作成する必要がある。必要に応じて複数のノードが自動的に開始されるように、  \n",
    "コンピューティングを拡大縮小できるようにする必要がある。どの種類のコンピューティング先を作成するか？\n",
    "\n",
    "1. コンピューティングインスタンス\n",
    "2. 計算クラスタ\n",
    "3. 推論クラスター\n",
    "\n",
    "答え:2  "
   ]
  },
  {
   "cell_type": "markdown",
   "id": "f61b62d4",
   "metadata": {},
   "source": [
    "- Estimatorを使用して実験を実行し、training-cluster-1という名前のコンピューティングクラスターで実行するとする。  \n",
    "training-cluster-1で実験を実行するために、Estimatorのどのプロパティを設定する必要があるか？\n",
    "\n",
    "1. compute_target = 'training-cluster-1'\n",
    "2. environment_definition = 'training-cluster-1'\n",
    "3. source_directory = 'training-cluster-1'\n",
    "\n",
    "答え:1"
   ]
  },
  {
   "cell_type": "markdown",
   "id": "0a076974",
   "metadata": {},
   "source": [
    "- Estimatorを使用してモデルをトレーニングする手順が含まれるパイプラインを作成する。このタスク用にパイプラインで定義する手順の種類はどれか？  \n",
    "\n",
    "1. PythonScriptStep\n",
    "2. DatabricksStep\n",
    "3. EstimatorStep\n",
    "\n",
    "答え:3"
   ]
  },
  {
   "cell_type": "markdown",
   "id": "ed6d5a6f",
   "metadata": {},
   "source": [
    "- 2つの手順が含まれるパイプラインを作成する。手順1では一部のデータを前処理し、手順2では前処理されたデータを使用してモデルをトレーニングする。  \n",
    "手順1から手順2にデータを渡し、これらの手順間に依存関係を作成するには、どのような種類のオブジェクトを使用する必要があるか？\n",
    "\n",
    "1. Datastore\n",
    "2. PipelineData\n",
    "3. Data Reference\n",
    "\n",
    "答え:2  \n",
    "ここではデータストアと考えがちだが、データストアとってくるのは最初だけ、そのあとパイプラインでデータをやり取りする時はpipelinedataを用いる"
   ]
  },
  {
   "cell_type": "markdown",
   "id": "de1413d1",
   "metadata": {},
   "source": [
    "- AzureML用のPython SDKを使用して、モデルをトレーニングするパイプラインを作成した。クライアントアプリケーションがHTTP RESTエンドポイントを通じてパイプラインを呼び出すためにはどのような処理が必要か？  \n",
    "1. パイプラインの名前をpipeline_name-predictionに変更する\n",
    "2. パイプラインを公開する\n",
    "3. 推論クラスターのコンピューティング先を作成する\n",
    "\n",
    "答え:2  \n",
    "パイプラインを作ってトレーニングしただけではだめで、そのあと公開しないとRESTエンドポイントはできない　　\n",
    "逆に、公開されることによってその時のモデルがロックされることになる、ワークスペースに登録されて。"
   ]
  },
  {
   "cell_type": "markdown",
   "id": "574aa8b8",
   "metadata": {},
   "source": [
    "- 毎週実行するパイプラインを公開している。Schedule.createメソッドを使用してスケジュールを作成することを計画している。  \n",
    "パイプラインの実行頻度を構成するために、最初に作成する必要があるオブジェクトの種類はどれか？\n",
    "\n",
    "1. Datastore\n",
    "2. PipelineParameter\n",
    "3. ScheduleRecurrance\n",
    "\n",
    "答え:3  これは問題出た  \n",
    "このようにスケジュールCreate問題は出てくるので覚えておくこと"
   ]
  },
  {
   "cell_type": "markdown",
   "id": "fd174e05",
   "metadata": {},
   "source": [
    "- AzureML用Python SDKを使用してモデルをトレーニングした。モデルを高いスケーラビリティとセキュリティを備えたコンテナ化されたリアルタイムサービスとしてデプロイ予定。  \n",
    "サービスをホストするために作成する必要のあるコンピューティングの種類はなにか？\n",
    "\n",
    "1. Azure Kubernetes Services(AKS)推論クラスター\n",
    "2. GPUを持つコンピューティングインスタンス\n",
    "3. 複数のノードを持つトレーニングクラスター\n",
    "\n",
    "答え:1　コンテナとでてきたらクーバネと思っておく  "
   ]
  },
  {
   "cell_type": "markdown",
   "id": "67804fe9",
   "metadata": {},
   "source": [
    "- モデルをリアルタイム推論サービスとしてデプロイする。サービスのエントリスクリプトにはどのような関数を含める必要があるか？\n",
    "\n",
    "1. main() and predict(raw_data)\n",
    "2. load() and score(raw_data)\n",
    "3. init() and run(raw_data)\n",
    "\n",
    "答え:3　エントリする際のスクリプトにはinitとrun入れないといけないのを覚えておく"
   ]
  },
  {
   "cell_type": "markdown",
   "id": "213a9fd0",
   "metadata": {},
   "source": [
    "- 大量のデータファイルに対して新しい値を予測するために使用するバッチ推論パイプラインを作成する。パイプラインで複数のノードに対してスコアリングスクリプトを実行し、  \n",
    "結果を照合する必要がある。パイプラインにはどのような手順を含める必要があるか？\n",
    "\n",
    "1. PythonScriptStep\n",
    "2. ParallelRunStep\n",
    "3. AdlaStep\n",
    "\n",
    "答え:2　複数のノードに対して、というのが重要。"
   ]
  },
  {
   "cell_type": "markdown",
   "id": "f622c434",
   "metadata": {},
   "source": [
    "- output_action=\"append_row\"プロパティを使用して、バッチ推論パイプラインの手順を構成した。バッチ推論の結果を検索するファイルはどれか？\n",
    "\n",
    "1. output.txt\n",
    "2. parallel_run_step.txt\n",
    "3. stdoutlogs.txt\n",
    "\n",
    "答え:1　もしも前の問題と続いていたら2になる。  \n",
    "さきほどの並列操作パイプラインのログだったら、2になるし、単一パイプラインであれば1"
   ]
  },
  {
   "cell_type": "markdown",
   "id": "6ae681b3",
   "metadata": {},
   "source": [
    "- ハイパーパラメーターチューニングを使用して、一連のハイパーパラメータに最適な不連続値を見つけることを計画している。  \n",
    "指定した不連続地のセットのすべての使用可能な組み合わせを試す。どの種類のサンプリングを使用するか？\n",
    "\n",
    "1. グリッドサンプリング\n",
    "2. ランダムサンプリング\n",
    "3. ベイジアンサンプリング\n",
    "\n",
    "答え:1"
   ]
  },
  {
   "cell_type": "markdown",
   "id": "cc6b6ccf",
   "metadata": {},
   "source": [
    "- ハイパーパラメータチューニングを使用して、最適なモデルをトレーニングする。トレーニングスクリプトでは、次のようにトレーニング済みモデルの曲線(AUC)指標で面積を計算する。  \n",
    "トレーニングスクリプトにどのコードを追加するか？\n",
    "\n",
    "```\n",
    "y_scores = model.predict_proba(X_test)\n",
    "auc = roc_auc_score(y_test, y_scores[:, 1]\n",
    "# ハイパードライブ構成は以下のように定義\n",
    "hyperdrive = HyperDriveConfig(estimator=sklearn_estimator,\n",
    "hyperparameter_sampling=grid_sampling,\n",
    "policy=None,\n",
    "primary_metric_name='AUC',\n",
    "primary_metric_goal=PrimaryMetricGoal.MAXIMIZE,\n",
    "max_total_runs=6,\n",
    "max_concurrent_runs=4)\n",
    "```\n",
    "\n",
    "1. run.log('Accuracy', np.float(auc))\n",
    "2. print(auc)\n",
    "3. run.log('AUC', np.float(auc))\n",
    "\n",
    "答え:3  \n",
    "これはモロで出る　スコアはauc = xxxで取ってきている。名前と同じ指標で取ってくることになる."
   ]
  },
  {
   "cell_type": "markdown",
   "id": "30d8a126",
   "metadata": {},
   "source": [
    "- Automated Machine Learningを使用して、花びらとがくの測定に基づいてアイリスの種を予測するモデルをトレーニングする。  \n",
    "Automated Machine Learningで、どのようなタスクを指定する必要があるか？\n",
    "\n",
    "1. 回帰\n",
    "2. 分類\n",
    "3. 予測\n",
    "\n",
    "答え:2"
   ]
  },
  {
   "cell_type": "markdown",
   "id": "94cf80d5",
   "metadata": {},
   "source": [
    "どのアルゴリズム使えばいいかは、以下を見ると良い\n",
    "\n",
    "https://docs.microsoft.com/ja-jp/azure/machine-learning/algorithm-cheat-sheet"
   ]
  },
  {
   "cell_type": "markdown",
   "id": "2b80e9d7",
   "metadata": {},
   "source": [
    "## SDKの概要\n",
    "\n",
    "### 知識チェック\n",
    "\n",
    "1. Azure Machine Learning について正確に説明している記述は次のうちどれですか?\n",
    "\n",
    "- Scikit-Learn、PyTorch、Tensorflow のような一般的な機械学習フレームワークの代替として使用できる Python ライブラリ。\n",
    "- 大規模な機械学習ソリューションを運用するためのクラウドベースのプラットフォーム。\n",
    "- ドラッグ アンド ドロップ インターフェイスを使用して機械学習モデルを作成できるようにする Microsoft Windows 用のアプリケーション。\n",
    "\n",
    "2. Azure Machine Learning Python SDK を使用して実験のコードを記述しているとします。  \n",
    "実験を実行するたびにメトリックをログに記録する必要があります。また、実行ごとにメトリックを簡単に取得できるようにする必要があります。  \n",
    "何をする必要がありますか?\n",
    "\n",
    "- 実験コードに print ステートメントを追加してメトリックを出力する。\n",
    "- 実験データを outputs フォルダーに保存する。\n",
    "- Run クラスの log* メソッドを使用して名前付きメトリックを記録する。\n",
    "\n",
    "↓答え"
   ]
  },
  {
   "cell_type": "markdown",
   "id": "0f475d7b",
   "metadata": {},
   "source": [
    "1. 大規模な機械学習ソリューションを運用するためのクラウドベースのプラットフォーム\n",
    "    - zure Machine Learning を使用すると、機械学習モデルのデータ準備、トレーニング、検証、デプロイを管理できます。  \n",
    "    Scikit-Learn、PyTorch、Tensorflow などの既存のフレームワークをサポートしており、  \n",
    "    機械学習をクラウド上で運用できるようにするためのクロスプラットフォームのプラットフォームを提供するものです。\n",
    "\n",
    "2. Runクラスのlog*メソッドを使用して名前付きメトリックを記録する\n",
    "    - 実験の実行でメトリックを記録するには、Run.log*メソッドを使用する"
   ]
  },
  {
   "cell_type": "markdown",
   "id": "9ca24189",
   "metadata": {},
   "source": [
    "# モデルのトレーニング\n",
    "\n",
    "## 知識チェック\n",
    "\n",
    "1. あなたは、実験が実行されるたびにバッチ サイズと学習率のハイパーパラメーターを指定された値に設定するスクリプトベースの実験を使用して、  \n",
    "PyTorch モデルをトレーニングします。 何をする必要がありますか?\n",
    "- 複数のスクリプト ファイルを作成します。使用するバッチ サイズと学習率との組み合わせごとに 1 つです。\n",
    "- 実験を実行する前に、ScriptRunConfig の batch_size および learning_rate プロパティを設定します。\n",
    "- バッチ サイズと学習率の引数をスクリプトに追加し、それらを ScriptRunConfig の arguments プロパティに設定します。\n",
    "\n",
    "2. 実験を実行してモデルをトレーニングしました。 モデルをワークスペースに格納し、他の実験や公開済みのサービスで使用したいと考えています。  \n",
    "何をする必要がありますか?\n",
    "\n",
    "- ワークスペースでモデルを登録する。\n",
    "- モデルをファイルとしてコンピューティング インスタンスに保存する。\n",
    "- 実験スクリプトをノートブックとして保存する。\n",
    "\n",
    "↓解答"
   ]
  },
  {
   "cell_type": "markdown",
   "id": "c419e984",
   "metadata": {},
   "source": [
    "1. バッチ サイズと学習率の引数をスクリプトに追加し、それらを ScriptRunConfig の arguments プロパティに設定します。\n",
    "    - 毎回異なる値を使用するには、スクリプト内に引数を定義し、ScriptRunConfig の arguments パラメーターを使用してそれらを渡します。\n",
    "2. ワークスペースでモデルを登録する。\n",
    "    - ワークスペースにモデルを格納するには、モデルを登録します。"
   ]
  },
  {
   "cell_type": "markdown",
   "id": "2d041e00",
   "metadata": {},
   "source": [
    "# データの操作\n",
    "\n",
    "## 知識チェック\n",
    "\n",
    "1. ws という名前のワークスペースへの参照があります。 どのコードで、ワークスペースの既定のデータストアを取得できますか?\n",
    "- default_ds = Datastore.get(ws, 'default')\n",
    "- default_ds = ws.Datastores[0]\n",
    "- default_ds = ws.get_default_datastore()\n",
    "\n",
    "2. データストアには、Pandas データフレームとして使用する構造化データの CSV ファイルが含まれます。  \n",
    "この操作を簡単にするために、どの種類のオブジェクトを作成する必要がありますか?\n",
    "- データストア。\n",
    "- 表形式データセット。\n",
    "- ファイル データセット。\n",
    "\n",
    "3. ファイル データセットから直接データをストリーミングするためにスクリプトが必要です。 どのモードを使用する必要がありますか?\n",
    "- as_mount()\n",
    "- as_download()\n",
    "- as_upload()\n",
    "\n",
    "↓解答"
   ]
  },
  {
   "cell_type": "markdown",
   "id": "8a3e392a",
   "metadata": {},
   "source": [
    "1. default_ds = ws.get_default_datastore()\n",
    "    - 既定のデータストアを取得するには、ワークスペースの get_default_datastore メソッドを使用します。\n",
    "2. 表形式データセット\n",
    "    - 表形式のデータセットでは、Pandas データフレームとして構造化データを使用する最も簡単な方法が提供されます。\n",
    "3. as_mount()\n",
    "    - ソースから直接データをストリーミングするには、as_mount モードを使用します。"
   ]
  },
  {
   "cell_type": "markdown",
   "id": "e4b08d78",
   "metadata": {},
   "source": [
    "## コンピューティング処理、環境\n",
    "\n",
    "## 知識チェック\n",
    "\n",
    "1. 実験を実行するために Azure Machine Learning Python SDK を使用しています。  \n",
    "Conda 構成 (.yml) ファイルから環境を作成する必要があります。 Environment クラスのどのメソッドを使用する必要がありますか?\n",
    "- create\n",
    "- from_conda_specification\n",
    "- from_existing_conda_environment\n",
    "\n",
    "2. 画像処理装置 (GPU) を必要とするトレーニング実験用のコンピューティング先を作成する必要があります。  \n",
    "必要に応じて複数のノードが自動的に開始されるように、コンピューティングをスケーリングできるようにすることを望んでいます。  \n",
    "どのような種類のコンピューティング先を作成する必要がありますか?\n",
    "- コンピューティング インスタンス\n",
    "- コンピューティング クラスター\n",
    "- 推論クラスター\n",
    "\n",
    "↓解答"
   ]
  },
  {
   "cell_type": "markdown",
   "id": "5b66262d",
   "metadata": {},
   "source": [
    "1. from_conda_specification\n",
    "    - 構成ファイルから環境を作成するには、from_conda_specification メソッドを使用します。  \n",
    "    create メソッドでは、conda パッケージと pip パッケージを明示的に指定する必要があり、  \n",
    "    from_existing_conda_environment にはコンピューター上の既存の環境が必要です。\n",
    "2. コンピューティング クラスター\n",
    "    - 必要に応じて自動的に開始される GPU 対応 VM の複数のノードを作成するには、コンピューティング クラスターを使用します。"
   ]
  },
  {
   "cell_type": "markdown",
   "id": "aea43a80",
   "metadata": {},
   "source": [
    "## パイプライン\n",
    "\n",
    "1. 2 つのステップを含むパイプラインを作成しているとします。 ステップ 1 ではいくつかのデータが前処理され、  \n",
    "ステップ 2 では前処理されたデータを使用してモデルがトレーニングされます。  \n",
    "ステップ 1 からステップ 2 にデータを渡し、これらのステップの間に依存関係を作成するために使用するオブジェクトの種類を指定してください。\n",
    "\n",
    "    - データストア\n",
    "    - PipelineData\n",
    "    - データ参照\n",
    "\n",
    "\n",
    "2. 毎週実行するパイプラインを発行しました。 Schedule.create メソッドを使用してスケジュールを作成することを計画しているとします。  \n",
    "パイプライン実行の頻度を構成するために最初に作成する必要のあるオブジェクトの種類を指定してください。\n",
    "\n",
    "    - データストア\n",
    "    - PipelineParameter\n",
    "    - ScheduleRecurrence\n",
    "\n",
    "↓解答"
   ]
  },
  {
   "cell_type": "markdown",
   "id": "96d65708",
   "metadata": {},
   "source": [
    "1. PipelineData\n",
    "    - パイプライン内のステップ間でデータを渡すには、PipelineData オブジェクトを使用します。\n",
    "2. ScheduleRecurrence\n",
    "    - 定期的に実行されるスケジュールを作成するには、ScheduleRecurrence オブジェクトが必要です。"
   ]
  },
  {
   "cell_type": "markdown",
   "id": "d71d4a67",
   "metadata": {},
   "source": [
    "## リアルタイム推論\n",
    "\n",
    "1. Azure Machine Learning 用の Python SDK を使用して、モデルをトレーニングしました。  \n",
    "高いスケーラビリティとセキュリティを備え、コンテナー化されたリアルタイム サービスとしてモデルをデプロイする必要があります。  \n",
    "このサービスをホストするには、どのような種類のコンピューティングを作成する必要がありますか?\n",
    "    - Azure Kubernetes Service (AKS) 推論クラスター\n",
    "    - GPU を使用するコンピューティング インスタンス\n",
    "    - 複数のノードがあるトレーニング クラスター。\n",
    "\n",
    "\n",
    "2. モデルをリアルタイムの推論サービスとしてデプロイしています。  \n",
    "サービスのエントリ スクリプトには、どのような関数が含まれている必要がありますか?\n",
    "    - main() と score()\n",
    "    - base() と train()\n",
    "    - init() と run()\n",
    "\n",
    "↓解答"
   ]
  },
  {
   "cell_type": "markdown",
   "id": "a272e59b",
   "metadata": {},
   "source": [
    "1. Azure Kubernetes Service (AKS) 推論クラスター\n",
    "    - モデルをスケーラブルで、セキュリティで保護され、コンテナー化されたサービスとしてデプロイするには、  \n",
    "    AKS クラスターを使用する必要があります。\n",
    "\n",
    "\n",
    "2. init() と run()\n",
    "    - エントリ (スコアリング) スクリプトでは、init 関数と run 関数を実装する必要があります。"
   ]
  },
  {
   "cell_type": "markdown",
   "id": "102bdc5b",
   "metadata": {},
   "source": [
    "## バッチ推論パイプライン\n",
    "\n",
    "1. あなたは大量のデータ ファイルの新しい値を予測するために使用するバッチ推論パイプラインを作成中ですか?  \n",
    "あなたはパイプラインによってスコアリング スクリプトが複数のノード上で実行され、その結果が照合されるようにしたいと考えています。  \n",
    "パイプラインにはどのような種類のステップを含める必要がありますか?\n",
    "    - PythonScriptStep\n",
    "    - ParallelRunStep\n",
    "    - AdlaStep\n",
    "\n",
    "\n",
    "2. あなたは output_action=\"append_row\" プロパティを使用してバッチ推論パイプライン内のステップを構成しました。  \n",
    "どのファイルでバッチ推論の結果を探す必要がありますか?\n",
    "    - output.txt\n",
    "    - stdoutlogs.txt\n",
    "    - parallel_run_step.txt\n",
    "\n",
    "↓解答"
   ]
  },
  {
   "cell_type": "markdown",
   "id": "adbd50b3",
   "metadata": {},
   "source": [
    "1. ParallelRunStep\n",
    "    - ParallelRunStep ステップを使用して、スコアリング スクリプトを並列に実行する必要があります。\n",
    "2. parallel_run_step.txt\n",
    "    - append_row 出力アクションを使用すると、ParallelRunStep ステップからの結果が、  \n",
    "    parallel_run_step.txt という名前のファイル内で照合されます。"
   ]
  },
  {
   "cell_type": "code",
   "execution_count": null,
   "id": "adc35c5c",
   "metadata": {},
   "outputs": [],
   "source": []
  }
 ],
 "metadata": {
  "kernelspec": {
   "display_name": "Python 3.8 - AzureML",
   "language": "python",
   "name": "python38-azureml"
  },
  "language_info": {
   "codemirror_mode": {
    "name": "ipython",
    "version": 3
   },
   "file_extension": ".py",
   "mimetype": "text/x-python",
   "name": "python",
   "nbconvert_exporter": "python",
   "pygments_lexer": "ipython3",
   "version": "3.8.1"
  }
 },
 "nbformat": 4,
 "nbformat_minor": 5
}

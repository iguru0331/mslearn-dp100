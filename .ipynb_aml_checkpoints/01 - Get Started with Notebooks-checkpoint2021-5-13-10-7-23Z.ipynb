{
  "cells": [
    {
      "cell_type": "markdown",
      "source": [
        "# Azure Machine Learningでノートブックを始める\n",
        "\n",
        "Azure Machine Learningは機械学習を作成・管理するためのクラウドサービスで、  \n",
        "データサイエンスや機械学習の作業の多くは、このようなノートブックで実現できる。\n",
        "\n",
        "## Azure ML Python SDK\n",
        "\n",
        "このケースでは、Azure MLコンピューティングインスタンス上のConda環境でノートブックを実行している。  \n",
        "この環境はデフォルトでコンピューティングインスタンスにPythonパッケージがインストールされており、  \n",
        "データサイエンティストが通常使用する一般的なPythonパッケージが含まれている。\n",
        "\n",
        "また、Azure ML Python SDKも含まれており、これはAzure MLワークスペースのリソースを使用するコードを書くことができるPythonパッケージである。\n",
        "\n",
        "以下のセルを実行して、`azureml-core`パッケージをインポートし、インストールされているSDKのバージョンを確認する。"
      ],
      "metadata": {}
    },
    {
      "cell_type": "code",
      "source": [
        "import azureml.core\n",
        "\n",
        "print(\"Ready to use Azure ML\", azureml.core.VERSION)"
      ],
      "outputs": [
        {
          "output_type": "stream",
          "name": "stdout",
          "text": [
            "Ready to use Azure ML 1.28.0\n"
          ]
        }
      ],
      "execution_count": 1,
      "metadata": {
        "gather": {
          "logged": 1623578762398
        }
      }
    },
    {
      "cell_type": "markdown",
      "source": [
        "## ワークスペースの接続\n",
        "\n",
        "すべての実験と関連するリソースは、Azure MLのワークスペース内で管理される。  \n",
        "既存のワークスペースに接続するか、Azure ML SDKを使用して新しいワークスペースを作成することができる。\n",
        "\n",
        "ほとんどの場合、ワークスペースの接続情報JSONファイルに保存する必要がある。\n",
        "これにより、AzureのサブスクリプションIDなどの詳細を覚えておく必要がなく、簡単に接続することができる。\n",
        "\n",
        "JSONファイルは、Azureポータルのワークスペース用ブレード、またはAzure MLスタジオのワークスペース詳細ペインからダウンロードできるが、  \n",
        "ワークスペース内でコンピューティングインスタンスを使用している場合は、構成ファイルはすでにルートフォルダにダウンロードされている。\n",
        "\n",
        "以下のコードは、設定ファイルを使用してワークスペースに接続している。  \n",
        "> 注:ノーツブックセッションでワークスペースに初めて接続した時、Azureにサインインするように促されることがある。  \n",
        "サインインに成功したら、開いていたブラウザタブを閉じ、このノートブックに戻ることができる。"
      ],
      "metadata": {}
    },
    {
      "cell_type": "code",
      "source": [
        "from azureml.core import Workspace\n",
        "\n",
        "ws = Workspace.from_config()\n",
        "print(ws.name, \"loaded\")"
      ],
      "outputs": [
        {
          "output_type": "stream",
          "name": "stdout",
          "text": [
            "20210613 loaded\n"
          ]
        }
      ],
      "execution_count": 2,
      "metadata": {
        "gather": {
          "logged": 1623578762911
        }
      }
    },
    {
      "cell_type": "markdown",
      "source": [
        "## View Azure Machine Learning resources in the workspace\n",
        "\n",
        "Now that you have a connection to your workspace, you can work with the resources. For example, you can use the following code to enumerate the compute resources in your workspace."
      ],
      "metadata": {}
    },
    {
      "cell_type": "code",
      "source": [
        "print(\"Compute Resources:\")\n",
        "for compute_name in ws.compute_targets:\n",
        "    compute = ws.compute_targets[compute_name]\n",
        "    print(\"\\t\", compute.name, ':', compute.type)"
      ],
      "outputs": [
        {
          "output_type": "stream",
          "name": "stdout",
          "text": [
            "Compute Resources:\n",
            "\t mslearn-20210613a : ComputeInstance\n"
          ]
        }
      ],
      "execution_count": 3,
      "metadata": {
        "gather": {
          "logged": 1623578766742
        }
      }
    },
    {
      "cell_type": "markdown",
      "source": [
        "When you've finished exploring this notebook, you can save any changes you have made and close it."
      ],
      "metadata": {}
    }
  ],
  "metadata": {
    "kernelspec": {
      "name": "python3",
      "language": "python",
      "display_name": "Python 3"
    },
    "language_info": {
      "name": "python",
      "version": "3.6.9",
      "mimetype": "text/x-python",
      "codemirror_mode": {
        "name": "ipython",
        "version": 3
      },
      "pygments_lexer": "ipython3",
      "nbconvert_exporter": "python",
      "file_extension": ".py"
    },
    "kernel_info": {
      "name": "python3"
    },
    "nteract": {
      "version": "nteract-front-end@1.0.0"
    },
    "microsoft": {
      "host": {
        "AzureML": {
          "notebookHasBeenCompleted": true
        }
      }
    }
  },
  "nbformat": 4,
  "nbformat_minor": 4
}
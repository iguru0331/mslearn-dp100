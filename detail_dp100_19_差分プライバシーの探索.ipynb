{
 "cells": [
  {
   "cell_type": "markdown",
   "id": "67c97aae",
   "metadata": {},
   "source": [
    "# 差分プライバシーの探索\n",
    "\n",
    "差分プラバシーは、個別に識別できるデータ値を保護しながら、有益な分析を可能にする最先端のアプローチ。\n",
    "\n",
    "データの分析次第では、複数の分析を統合した場合に特定のユーザの情報を識別できる可能性があり、  \n",
    "これらによる暴露から個人データを保護するのに差分プライバシーが役立つ。\n",
    "\n",
    "## 差分プライバシーを理解する\n",
    "\n",
    "差分プライバシーは、分析プロセスに統計的\"ノイズ\"を追加することによって、個々のデータ地を保護しようとするもの。\n",
    "ノイズによって、多少のランダムなバリエーションが許容されてデータの集計が実際のデータ地と統計的に一致するものの、特定できないことが保証される。  \n",
    "また、ノイズは分析毎に異なるため結果は非決定的になることから、同じ集計を実行する2つの分析によって、多少異なる結果が生じる場合がある。\n",
    "\n",
    "## データプライバシーのパラメータを構成する\n",
    "\n",
    "個人データを保護する手法の一つに、**単に調査に参加しない**というものがあり、これを**オプトアウト**オプションと呼ばれる。  \n",
    "これについては、解決策としてはいくつか考慮事項がある。\n",
    "\n",
    "- 調査によりお客様に影響を及ぼす結果が生じる恐れがある\n",
    "- この調査に参加する利点が、悪影響を上回る場合がある\n",
    "    - 例えば100ドル受け取って調査に参加した結果、健康保険料が1年で10ドル増加した場合は純損失が10年以上経過してから発生する  \n",
    "    この場合、お客様にとって有意義なトレードオフになる可能性がある\n",
    "- オプトアウトオプションがすべての個人に対して有効となるゆういつの方法は、すべての個人が参加しないことで、そうなると調査そのものが無意味になる\n",
    "\n",
    "ノイズに追加によって生じるバリエーションの量は、$\\epsilon$というパラメータを使用して構成できる。  \n",
    "オプトアウトオプションをせずに調査に参加することで個人データが特定されるという付加リスクの量が、この値によって制御される。  \n",
    "\n",
    "重要なのは、この調査に参加するすべての個人に対して、このプライバシー原則が適用されるという点。  \n",
    "\n",
    "- $\\epsilon$が小さい　→ データ集計の精度が低下するが、高度なプライバシーが実現する\n",
    "- $\\epsilon$が大きい　→ データ集計の精度が向上するが、ノイズによる不透明度が小さくなる\n",
    "\n",
    "> 注 : $\\epsilon$で設定した値の逆数をノイズとして入れるので、値が大きくなるほどノイズが小さくなる"
   ]
  },
  {
   "cell_type": "markdown",
   "id": "9e79396a",
   "metadata": {},
   "source": [
    "## 演習 差分プライバシーの使用\n",
    "\n",
    "### SmartNoise SDKのインストール\n",
    "\n",
    "SmartNoiseはOpenDPのツールキットで、データ分析や機械学習プロジェクトにおいて、  \n",
    "差分プライバシーを使用するためのビルディングブロックを提供することを目的としている。"
   ]
  },
  {
   "cell_type": "code",
   "execution_count": 1,
   "id": "4355f7cc",
   "metadata": {},
   "outputs": [
    {
     "name": "stdout",
     "output_type": "stream",
     "text": [
      "Requirement already satisfied: opendp-smartnoise==0.1.3.1 in /anaconda/envs/azureml_py36/lib/python3.6/site-packages (0.1.3.1)\n",
      "Requirement already satisfied: pyyaml in /anaconda/envs/azureml_py36/lib/python3.6/site-packages (from opendp-smartnoise==0.1.3.1) (5.4.1)\n",
      "Requirement already satisfied: statsmodels in /anaconda/envs/azureml_py36/lib/python3.6/site-packages (from opendp-smartnoise==0.1.3.1) (0.10.2)\n",
      "Requirement already satisfied: pandasql in /anaconda/envs/azureml_py36/lib/python3.6/site-packages (from opendp-smartnoise==0.1.3.1) (0.7.3)\n",
      "Requirement already satisfied: antlr4-python3-runtime==4.8 in /anaconda/envs/azureml_py36/lib/python3.6/site-packages (from opendp-smartnoise==0.1.3.1) (4.8)\n",
      "Requirement already satisfied: msrest in /anaconda/envs/azureml_py36/lib/python3.6/site-packages (from opendp-smartnoise==0.1.3.1) (0.6.21)\n",
      "Requirement already satisfied: numpy in /anaconda/envs/azureml_py36/lib/python3.6/site-packages (from opendp-smartnoise==0.1.3.1) (1.18.5)\n",
      "Requirement already satisfied: scipy in /anaconda/envs/azureml_py36/lib/python3.6/site-packages (from opendp-smartnoise==0.1.3.1) (1.5.2)\n",
      "Requirement already satisfied: opendp-smartnoise-core in /anaconda/envs/azureml_py36/lib/python3.6/site-packages (from opendp-smartnoise==0.1.3.1) (0.2.2)\n",
      "Requirement already satisfied: pandas in /anaconda/envs/azureml_py36/lib/python3.6/site-packages (from opendp-smartnoise==0.1.3.1) (0.25.3)\n",
      "Requirement already satisfied: patsy>=0.4.0 in /anaconda/envs/azureml_py36/lib/python3.6/site-packages (from statsmodels->opendp-smartnoise==0.1.3.1) (0.5.1)\n",
      "Requirement already satisfied: sqlalchemy in /anaconda/envs/azureml_py36/lib/python3.6/site-packages (from pandasql->opendp-smartnoise==0.1.3.1) (1.4.14)\n",
      "Requirement already satisfied: isodate>=0.6.0 in /anaconda/envs/azureml_py36/lib/python3.6/site-packages (from msrest->opendp-smartnoise==0.1.3.1) (0.6.0)\n",
      "Requirement already satisfied: requests~=2.16 in /anaconda/envs/azureml_py36/lib/python3.6/site-packages (from msrest->opendp-smartnoise==0.1.3.1) (2.25.1)\n",
      "Requirement already satisfied: requests-oauthlib>=0.5.0 in /anaconda/envs/azureml_py36/lib/python3.6/site-packages (from msrest->opendp-smartnoise==0.1.3.1) (1.3.0)\n",
      "Requirement already satisfied: certifi>=2017.4.17 in /anaconda/envs/azureml_py36/lib/python3.6/site-packages (from msrest->opendp-smartnoise==0.1.3.1) (2020.12.5)\n",
      "Requirement already satisfied: protobuf in /anaconda/envs/azureml_py36/lib/python3.6/site-packages (from opendp-smartnoise-core->opendp-smartnoise==0.1.3.1) (3.15.8)\n",
      "Requirement already satisfied: pytz>=2017.2 in /anaconda/envs/azureml_py36/lib/python3.6/site-packages (from pandas->opendp-smartnoise==0.1.3.1) (2021.1)\n",
      "Requirement already satisfied: python-dateutil>=2.6.1 in /anaconda/envs/azureml_py36/lib/python3.6/site-packages (from pandas->opendp-smartnoise==0.1.3.1) (2.8.1)\n",
      "Requirement already satisfied: six in /anaconda/envs/azureml_py36/lib/python3.6/site-packages (from patsy>=0.4.0->statsmodels->opendp-smartnoise==0.1.3.1) (1.16.0)\n",
      "Requirement already satisfied: greenlet!=0.4.17; python_version >= \"3\" in /anaconda/envs/azureml_py36/lib/python3.6/site-packages (from sqlalchemy->pandasql->opendp-smartnoise==0.1.3.1) (1.1.0)\n",
      "Requirement already satisfied: importlib-metadata; python_version < \"3.8\" in /anaconda/envs/azureml_py36/lib/python3.6/site-packages (from sqlalchemy->pandasql->opendp-smartnoise==0.1.3.1) (4.0.1)\n",
      "Requirement already satisfied: idna<3,>=2.5 in /anaconda/envs/azureml_py36/lib/python3.6/site-packages (from requests~=2.16->msrest->opendp-smartnoise==0.1.3.1) (2.10)\n",
      "Requirement already satisfied: urllib3<1.27,>=1.21.1 in /anaconda/envs/azureml_py36/lib/python3.6/site-packages (from requests~=2.16->msrest->opendp-smartnoise==0.1.3.1) (1.25.11)\n",
      "Requirement already satisfied: chardet<5,>=3.0.2 in /anaconda/envs/azureml_py36/lib/python3.6/site-packages (from requests~=2.16->msrest->opendp-smartnoise==0.1.3.1) (4.0.0)\n",
      "Requirement already satisfied: oauthlib>=3.0.0 in /anaconda/envs/azureml_py36/lib/python3.6/site-packages (from requests-oauthlib>=0.5.0->msrest->opendp-smartnoise==0.1.3.1) (3.1.0)\n",
      "Requirement already satisfied: zipp>=0.5 in /anaconda/envs/azureml_py36/lib/python3.6/site-packages (from importlib-metadata; python_version < \"3.8\"->sqlalchemy->pandasql->opendp-smartnoise==0.1.3.1) (3.4.1)\n",
      "Requirement already satisfied: typing-extensions>=3.6.4; python_version < \"3.8\" in /anaconda/envs/azureml_py36/lib/python3.6/site-packages (from importlib-metadata; python_version < \"3.8\"->sqlalchemy->pandasql->opendp-smartnoise==0.1.3.1) (3.10.0.0)\n"
     ]
    }
   ],
   "source": [
    "!pip install opendp-smartnoise==0.1.3.1"
   ]
  },
  {
   "cell_type": "markdown",
   "id": "1fd6467b",
   "metadata": {},
   "source": [
    "### データの読み込み"
   ]
  },
  {
   "cell_type": "code",
   "execution_count": 2,
   "id": "074935d4",
   "metadata": {},
   "outputs": [
    {
     "data": {
      "text/html": [
       "<div>\n",
       "<style scoped>\n",
       "    .dataframe tbody tr th:only-of-type {\n",
       "        vertical-align: middle;\n",
       "    }\n",
       "\n",
       "    .dataframe tbody tr th {\n",
       "        vertical-align: top;\n",
       "    }\n",
       "\n",
       "    .dataframe thead th {\n",
       "        text-align: right;\n",
       "    }\n",
       "</style>\n",
       "<table border=\"1\" class=\"dataframe\">\n",
       "  <thead>\n",
       "    <tr style=\"text-align: right;\">\n",
       "      <th></th>\n",
       "      <th>PatientID</th>\n",
       "      <th>Pregnancies</th>\n",
       "      <th>PlasmaGlucose</th>\n",
       "      <th>DiastolicBloodPressure</th>\n",
       "      <th>TricepsThickness</th>\n",
       "      <th>SerumInsulin</th>\n",
       "      <th>BMI</th>\n",
       "      <th>DiabetesPedigree</th>\n",
       "      <th>Age</th>\n",
       "      <th>Diabetic</th>\n",
       "    </tr>\n",
       "  </thead>\n",
       "  <tbody>\n",
       "    <tr>\n",
       "      <th>count</th>\n",
       "      <td>1.000000e+04</td>\n",
       "      <td>10000.00000</td>\n",
       "      <td>10000.000000</td>\n",
       "      <td>10000.000000</td>\n",
       "      <td>10000.00000</td>\n",
       "      <td>10000.000000</td>\n",
       "      <td>10000.000000</td>\n",
       "      <td>10000.000000</td>\n",
       "      <td>10000.000000</td>\n",
       "      <td>10000.000000</td>\n",
       "    </tr>\n",
       "    <tr>\n",
       "      <th>mean</th>\n",
       "      <td>1.502122e+06</td>\n",
       "      <td>3.25580</td>\n",
       "      <td>107.850200</td>\n",
       "      <td>71.207500</td>\n",
       "      <td>28.81760</td>\n",
       "      <td>139.243600</td>\n",
       "      <td>31.567022</td>\n",
       "      <td>0.400944</td>\n",
       "      <td>30.134100</td>\n",
       "      <td>0.334400</td>\n",
       "    </tr>\n",
       "    <tr>\n",
       "      <th>std</th>\n",
       "      <td>2.892868e+05</td>\n",
       "      <td>3.40572</td>\n",
       "      <td>31.920909</td>\n",
       "      <td>16.801478</td>\n",
       "      <td>14.50648</td>\n",
       "      <td>133.777919</td>\n",
       "      <td>9.804366</td>\n",
       "      <td>0.381463</td>\n",
       "      <td>12.106047</td>\n",
       "      <td>0.471804</td>\n",
       "    </tr>\n",
       "    <tr>\n",
       "      <th>min</th>\n",
       "      <td>1.000038e+06</td>\n",
       "      <td>0.00000</td>\n",
       "      <td>44.000000</td>\n",
       "      <td>24.000000</td>\n",
       "      <td>7.00000</td>\n",
       "      <td>14.000000</td>\n",
       "      <td>18.200807</td>\n",
       "      <td>0.078044</td>\n",
       "      <td>21.000000</td>\n",
       "      <td>0.000000</td>\n",
       "    </tr>\n",
       "    <tr>\n",
       "      <th>25%</th>\n",
       "      <td>1.251672e+06</td>\n",
       "      <td>0.00000</td>\n",
       "      <td>84.000000</td>\n",
       "      <td>58.000000</td>\n",
       "      <td>15.00000</td>\n",
       "      <td>39.000000</td>\n",
       "      <td>21.247427</td>\n",
       "      <td>0.137065</td>\n",
       "      <td>22.000000</td>\n",
       "      <td>0.000000</td>\n",
       "    </tr>\n",
       "    <tr>\n",
       "      <th>50%</th>\n",
       "      <td>1.504394e+06</td>\n",
       "      <td>2.00000</td>\n",
       "      <td>105.000000</td>\n",
       "      <td>72.000000</td>\n",
       "      <td>31.00000</td>\n",
       "      <td>85.000000</td>\n",
       "      <td>31.922421</td>\n",
       "      <td>0.199698</td>\n",
       "      <td>24.000000</td>\n",
       "      <td>0.000000</td>\n",
       "    </tr>\n",
       "    <tr>\n",
       "      <th>75%</th>\n",
       "      <td>1.754608e+06</td>\n",
       "      <td>6.00000</td>\n",
       "      <td>129.000000</td>\n",
       "      <td>85.000000</td>\n",
       "      <td>41.00000</td>\n",
       "      <td>197.000000</td>\n",
       "      <td>39.328921</td>\n",
       "      <td>0.621158</td>\n",
       "      <td>35.000000</td>\n",
       "      <td>1.000000</td>\n",
       "    </tr>\n",
       "    <tr>\n",
       "      <th>max</th>\n",
       "      <td>1.999997e+06</td>\n",
       "      <td>14.00000</td>\n",
       "      <td>192.000000</td>\n",
       "      <td>117.000000</td>\n",
       "      <td>92.00000</td>\n",
       "      <td>796.000000</td>\n",
       "      <td>56.034628</td>\n",
       "      <td>2.301594</td>\n",
       "      <td>77.000000</td>\n",
       "      <td>1.000000</td>\n",
       "    </tr>\n",
       "  </tbody>\n",
       "</table>\n",
       "</div>"
      ],
      "text/plain": [
       "          PatientID  Pregnancies  PlasmaGlucose  DiastolicBloodPressure  \\\n",
       "count  1.000000e+04  10000.00000   10000.000000            10000.000000   \n",
       "mean   1.502122e+06      3.25580     107.850200               71.207500   \n",
       "std    2.892868e+05      3.40572      31.920909               16.801478   \n",
       "min    1.000038e+06      0.00000      44.000000               24.000000   \n",
       "25%    1.251672e+06      0.00000      84.000000               58.000000   \n",
       "50%    1.504394e+06      2.00000     105.000000               72.000000   \n",
       "75%    1.754608e+06      6.00000     129.000000               85.000000   \n",
       "max    1.999997e+06     14.00000     192.000000              117.000000   \n",
       "\n",
       "       TricepsThickness  SerumInsulin           BMI  DiabetesPedigree  \\\n",
       "count       10000.00000  10000.000000  10000.000000      10000.000000   \n",
       "mean           28.81760    139.243600     31.567022          0.400944   \n",
       "std            14.50648    133.777919      9.804366          0.381463   \n",
       "min             7.00000     14.000000     18.200807          0.078044   \n",
       "25%            15.00000     39.000000     21.247427          0.137065   \n",
       "50%            31.00000     85.000000     31.922421          0.199698   \n",
       "75%            41.00000    197.000000     39.328921          0.621158   \n",
       "max            92.00000    796.000000     56.034628          2.301594   \n",
       "\n",
       "                Age      Diabetic  \n",
       "count  10000.000000  10000.000000  \n",
       "mean      30.134100      0.334400  \n",
       "std       12.106047      0.471804  \n",
       "min       21.000000      0.000000  \n",
       "25%       22.000000      0.000000  \n",
       "50%       24.000000      0.000000  \n",
       "75%       35.000000      1.000000  \n",
       "max       77.000000      1.000000  "
      ]
     },
     "execution_count": 2,
     "metadata": {},
     "output_type": "execute_result"
    }
   ],
   "source": [
    "import pandas as pd\n",
    "\n",
    "data_path = 'data/diabetes.csv'\n",
    "diabetes = pd.read_csv(data_path)\n",
    "diabetes.describe()"
   ]
  },
  {
   "cell_type": "markdown",
   "id": "c79f04fe",
   "metadata": {},
   "source": [
    "上記のコードの出力は糖尿病データセットの変数の主要な要約統計量を示している。"
   ]
  },
  {
   "cell_type": "markdown",
   "id": "bce6c330",
   "metadata": {},
   "source": [
    "### 分析の実行\n",
    "\n",
    "SmartNoiseを使って、データにノイズを加えた分析を行うことができる。  \n",
    "ノイズの追加方法は非常に複雑だが、SmartNoiseはそのほとんどを代行してくれるが、知っておくと便利な概念がいくつかある。\n",
    "\n",
    "- **上限と下限(Upper and lower bounds)** :\n",
    "\n",
    "    - *clamping*は、変数の値に上限と下限を設定するために使用される。  \n",
    "    これはSmartNoiseによって生成されるノイズが、元のデータの期待される分布と一致するようにするために必要\n",
    "\n",
    "\n",
    "- **サンプルサイズ(Sample size)** : \n",
    "\n",
    "    - 一部のアグリゲーションで一貫した差分プライベートデータを生成するために、  \n",
    "    SmartNoiseは生成されるデータサンプルのサイズを知る必要がある。\n",
    "\n",
    "\n",
    "- **$\\epsilon$(Epsilon)** : \n",
    "\n",
    "    - 非負の値で、データに付加されるノイズの量を逆算したもの。  \n",
    "    $\\epsilon$は、分析によって生成されたレポートが完全には非公開ではない確率を示す $\\delta$という別の値と相関がある。\n",
    "\n",
    "\n",
    "これらの概念を念頭に置いて分析を作成し、差分プライベートデータから平均Age値をレポートする以下のコードを調べて実行する。  \n",
    "比較のため、基の生データからの実際の平均値も表示される。\n",
    "\n",
    "> Python 3.8だとエラーになるので注意"
   ]
  },
  {
   "cell_type": "code",
   "execution_count": 3,
   "id": "6f6bfa83",
   "metadata": {},
   "outputs": [
    {
     "name": "stdout",
     "output_type": "stream",
     "text": [
      "Private mean age: 30.192\n",
      "Actual mean age: 30.1341\n"
     ]
    }
   ],
   "source": [
    "import opendp.smartnoise.core as sn\n",
    "\n",
    "cols = list(diabetes.columns)\n",
    "age_range = [0.0, 120.0]\n",
    "samples = len(diabetes)\n",
    "\n",
    "with sn.Analysis() as analysis:\n",
    "    # load data\n",
    "    data = sn.Dataset(path=data_path, column_names=cols)\n",
    "    \n",
    "    # Convert Age to float\n",
    "    age_dt = sn.to_float(data['Age'])\n",
    "    \n",
    "    # get mean of age\n",
    "    age_mean = sn.dp_mean(data = age_dt,\n",
    "                          privacy_usage = {'epsilon': .50},\n",
    "                          data_lower = age_range[0],\n",
    "                          data_upper = age_range[1],\n",
    "                          data_rows = samples\n",
    "                         )\n",
    "    \n",
    "analysis.release()\n",
    "\n",
    "# print differentially private estimate of mean age\n",
    "print(\"Private mean age:\",age_mean.value)\n",
    "\n",
    "# print actual mean age\n",
    "print(\"Actual mean age:\",diabetes.Age.mean())"
   ]
  },
  {
   "cell_type": "markdown",
   "id": "191ea15c",
   "metadata": {},
   "source": [
    "### ヒストグラムでデータの分布を調べる\n",
    "\n",
    "データを分析する際には、ヒストグラムを使って変数の分布を調べるのが一般的。  \n",
    "例えば、糖尿病のデータセットにおける年齢の真の分布を見てみる。"
   ]
  },
  {
   "cell_type": "code",
   "execution_count": 9,
   "id": "44ad0c58",
   "metadata": {},
   "outputs": [
    {
     "data": {
      "image/png": "[encoded data removed]",
      "text/plain": [
       "<Figure size 432x288 with 1 Axes>"
      ]
     },
     "metadata": {
      "needs_background": "light"
     },
     "output_type": "display_data"
    },
    {
     "name": "stdout",
     "output_type": "stream",
     "text": [
      "[   0    0 6735 1074 1229  614  273   75    0    0    0    0]\n"
     ]
    }
   ],
   "source": [
    "import matplotlib.pyplot as plt\n",
    "import numpy as np\n",
    "%matplotlib inline\n",
    "\n",
    "ages = list(range(0, 130, 10))\n",
    "age = diabetes.Age\n",
    "\n",
    "# Plot a histogram with 10-year bins\n",
    "n_age, bins, patches = plt.hist(age, bins=ages, color='blue', alpha=0.7, rwidth=0.85)\n",
    "plt.grid(axis='y', alpha=0.75)\n",
    "plt.xlabel('Age')\n",
    "plt.ylabel('Frequency')\n",
    "plt.title('True Age Distribution')\n",
    "plt.show()\n",
    "print(n_age.astype(int))"
   ]
  },
  {
   "cell_type": "markdown",
   "id": "b6a8779d",
   "metadata": {},
   "source": [
    "続いて、Ageの差分プライバシーのヒストグラムと比較してみる。"
   ]
  },
  {
   "cell_type": "code",
   "execution_count": 10,
   "id": "4faf446a",
   "metadata": {},
   "outputs": [
    {
     "name": "stdout",
     "output_type": "stream",
     "text": [
      "Differentially private covariance: 3.6\n",
      "Actual covariance 8.720346284628466\n"
     ]
    }
   ],
   "source": [
    "with sn.Analysis() as analysis:\n",
    "    sn_data = sn.Dataset(path = data_path, column_names = cols)\n",
    "\n",
    "    age_bp_cov_scalar = sn.dp_covariance(\n",
    "                left = sn.to_float(sn_data['Age']),\n",
    "                right = sn.to_float(sn_data['DiastolicBloodPressure']),\n",
    "                privacy_usage = {'epsilon': 1.0},\n",
    "                left_lower = 0.,\n",
    "                left_upper = 120.,\n",
    "                left_rows = 10000,\n",
    "                right_lower = 0.,\n",
    "                right_upper = 150.,\n",
    "                right_rows = 10000)\n",
    "analysis.release()\n",
    "print('Differentially private covariance: {0}'.format(age_bp_cov_scalar.value[0][0]))\n",
    "print('Actual covariance', diabetes.Age.cov(diabetes.DiastolicBloodPressure))"
   ]
  },
  {
   "cell_type": "markdown",
   "id": "eb640b6d",
   "metadata": {},
   "source": [
    "この場合、**Age**と**DisatolicBloodPressure**の共分散は正であり、高齢の患者は血圧が高い傾向にあることを示す。"
   ]
  },
  {
   "cell_type": "markdown",
   "id": "ae1ac3f6",
   "metadata": {},
   "source": [
    "### SQLクエリの使用\n",
    "\n",
    "分析機能を加えて、SmartNoiseではデータソースに対してSQLクエリを使用して、差分プライバシー集計結果を取得することができる。\n",
    "\n",
    "まず、データスキーマにテーブルのメタデータを定義する必要がある。  \n",
    "これは、**/metadata**フォルダ内の**disease.yml**ファイルのようなymlファイルで行うことができる。  \n",
    "メタデータには、データタイプや数値フィールドの最小値と最大値など、テーブルのフィールドが記述されている。"
   ]
  },
  {
   "cell_type": "code",
   "execution_count": 11,
   "id": "b8943cb6",
   "metadata": {},
   "outputs": [
    {
     "name": "stdout",
     "output_type": "stream",
     "text": [
      "diabetes.diabetes [10000 rows]\n",
      "\t*PatientID [int] (unbounded)\n",
      "\tPregnancies [int] (0,20)\n",
      "\tPlasmaGlucose [float] (0.0,200.0)\n",
      "\tDiastolicBloodPressure [float] (0.0,150.0)\n",
      "\tTricepsThickness [float] (0.0,100.0)\n",
      "\tSerumInsulin [float] (0.0,1000.0)\n",
      "\tBMI [float] (0.0,100.0)\n",
      "\tDiabetesPedigree [float] (0.0,3.0)\n",
      "\tAge [int] (0,120)\n",
      "\tDiabetic (boolean)\n"
     ]
    }
   ],
   "source": [
    "from opendp.smartnoise.metadata import CollectionMetadata\n",
    "\n",
    "meta = CollectionMetadata.from_file('metadata/diabetes.yml')\n",
    "print (meta)"
   ]
  },
  {
   "cell_type": "markdown",
   "id": "b4a248c4",
   "metadata": {},
   "source": [
    "メタデータが定義されていれば、クエリを実行できるリーダーを作成することができる。  \n",
    "以下の例では、Pandasのデータフレームから生のデータを読み取る**PandasReader**と、  \n",
    "PandasReaderに差分プライバシーレイヤーを追加する**PrivateReader**を作成する。"
   ]
  },
  {
   "cell_type": "code",
   "execution_count": 12,
   "id": "12caa05c",
   "metadata": {},
   "outputs": [
    {
     "name": "stdout",
     "output_type": "stream",
     "text": [
      "Readers ready.\n"
     ]
    }
   ],
   "source": [
    "from opendp.smartnoise.sql import PandasReader, PrivateReader\n",
    "\n",
    "reader = PandasReader(diabetes, meta)\n",
    "private_reader = PrivateReader(reader, meta)\n",
    "print('Readers ready.')"
   ]
  },
  {
   "cell_type": "markdown",
   "id": "b5aeb865",
   "metadata": {},
   "source": [
    "これで集約された結果セットを返すSQLクエリを、PrivateReaderに送信することができる。"
   ]
  },
  {
   "cell_type": "code",
   "execution_count": 13,
   "id": "07c60a0f",
   "metadata": {},
   "outputs": [
    {
     "name": "stdout",
     "output_type": "stream",
     "text": [
      "[['Diabetic', 'AvgAge'], [False, 27.300174925193126], [True, 36.17377264594252]]\n"
     ]
    }
   ],
   "source": [
    "query = 'SELECT Diabetic, AVG(Age) AS AvgAge FROM diabetes.diabetes GROUP BY Diabetic'\n",
    "\n",
    "result_dp = private_reader.execute(query)\n",
    "print(result_dp)"
   ]
  },
  {
   "cell_type": "markdown",
   "id": "7d0d1905",
   "metadata": {},
   "source": [
    "その結果を、生データからの同じ集計結果と比較してみる。"
   ]
  },
  {
   "cell_type": "code",
   "execution_count": 14,
   "id": "e1fb9ba9",
   "metadata": {},
   "outputs": [
    {
     "name": "stdout",
     "output_type": "stream",
     "text": [
      "[('Diabetic', 'AvgAge'), (0, 27.073467548076923), (1, 36.22607655502392)]\n"
     ]
    }
   ],
   "source": [
    "result = reader.execute(query)\n",
    "print(result)"
   ]
  },
  {
   "cell_type": "markdown",
   "id": "6183dbb0",
   "metadata": {},
   "source": [
    "$\\epsilon$を明示的に指定することで、**PrivateReader**の動作をカスタマイズすることができる。  \n",
    "$\\epsilon$の大小でどのように変わるか試してみる。"
   ]
  },
  {
   "cell_type": "code",
   "execution_count": 15,
   "id": "08102acb",
   "metadata": {},
   "outputs": [
    {
     "name": "stdout",
     "output_type": "stream",
     "text": [
      "[['Diabetic', 'AvgAge'], [False, 27.018983862028225], [True, 36.123119847689026]]\n",
      "\n",
      "[['Diabetic', 'AvgAge'], [False, 27.72814001688977], [True, 40.44500675460525]]\n"
     ]
    }
   ],
   "source": [
    "low_privacy_reader = PrivateReader(reader, meta, 5.0)  # large epsilon, less privacy\n",
    "result = low_privacy_reader.execute(query)\n",
    "print(result)\n",
    "print()\n",
    "\n",
    "high_privacy_reader = PrivateReader(reader, meta, 0.1)  # smaller epsilon, more privacy\n",
    "result = high_privacy_reader.execute(query)\n",
    "print(result)"
   ]
  },
  {
   "cell_type": "markdown",
   "id": "61f623c4",
   "metadata": {},
   "source": [
    "上記のように、結果と比べて生データから得られる真の結果に近いものとなっている。\n",
    "\n",
    "> SmartNoiseによる差分プライバシーの詳細URL : https://smartnoise.org/"
   ]
  },
  {
   "cell_type": "markdown",
   "id": "4bc80c84",
   "metadata": {},
   "source": [
    "## 知識チェック\n",
    "\n",
    "1. 差分プライバシーはどのように機能しますか?\n",
    "\n",
    "    - データセット内のすべての数値は暗号化されており、分析に使用することはできません。\n",
    "    - 集計がデータ分布と統計的に一致しているが非決定的となるように、分析中にデータにノイズが追加されます。\n",
    "    - データセット内のすべての数値列の値は、列の平均値に変換されます。 データの分析では、実際値の代わりに平均値が使用されます。\n",
    "\n",
    "2. 差分プライバシー ソリューションでイプシロン パラメーターを設定した場合、どのような効果が得られますか?\n",
    "\n",
    "    - イプシロンが小さいほど、個人データが集計結果に与える影響が小さくなるため、プライバシーが向上し、精度が低下します。\n",
    "    - イプシロンが小さいほど、データに追加されるノイズの量が減少するため、精度が向上し、プライバシーが低下します。\n",
    "    - イプシロンを 1 に設定すると、差分プライバシーが有効になります。 0 に設定すると、差分プライバシーが無効になります。\n",
    "\n",
    "↓解答"
   ]
  },
  {
   "cell_type": "markdown",
   "id": "a7c48fa1",
   "metadata": {},
   "source": [
    "1. 集計がデータ分布と統計的に一致しているが非決定的となるように、分析中にデータにノイズが追加されます。\n",
    "\n",
    "    - 差分プライバシー ソリューションでは、集計が統計的に一貫しているが非決定的となるように、  \n",
    "    分析の生成時にデータにノイズが追加されます。また、集計に対する個人の影響を特定することはできません。\n",
    "\n",
    "2. イプシロンが小さいほど、個人データが集計結果に与える影響が小さくなるため、プライバシーが向上し、精度が低下します。\n",
    "    \n",
    "    - イプシロンが小さいほど、個人データが集計結果に与える影響が小さくなるため、暴露のリスクが低くなります。"
   ]
  }
 ],
 "metadata": {
  "kernelspec": {
   "display_name": "Python 3.6 - AzureML",
   "language": "python",
   "name": "python3-azureml"
  },
  "language_info": {
   "codemirror_mode": {
    "name": "ipython",
    "version": 3
   },
   "file_extension": ".py",
   "mimetype": "text/x-python",
   "name": "python",
   "nbconvert_exporter": "python",
   "pygments_lexer": "ipython3",
   "version": "3.6.9"
  }
 },
 "nbformat": 4,
 "nbformat_minor": 5
}

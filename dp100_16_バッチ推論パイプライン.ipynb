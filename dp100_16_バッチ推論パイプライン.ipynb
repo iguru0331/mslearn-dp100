{
 "cells": [
  {
   "cell_type": "markdown",
   "id": "5204144f",
   "metadata": {},
   "source": [
    "# dp100_16 バッチ推論パイプライン\n",
    "\n",
    "- バッチ推論パイプライン作成の流れ\n",
    "    - モデル登録\n",
    "    - スコアリングスクリプト作成\n",
    "        - `init()`と`run(mini_batch)`\n",
    "    - `ParallelRunConfig`、`ParallelRunStep`を使用してパイプラインを作成\n",
    "    - パイプラインを実行してステップの出力を待つ　※通常のパイプラインと同様\n",
    "- バッチ推論パイプラインは他のパイプラインと特段変わらない"
   ]
  }
 ],
 "metadata": {
  "kernelspec": {
   "display_name": "Python 3.8 - AzureML",
   "language": "python",
   "name": "python38-azureml"
  },
  "language_info": {
   "codemirror_mode": {
    "name": "ipython",
    "version": 3
   },
   "file_extension": ".py",
   "mimetype": "text/x-python",
   "name": "python",
   "nbconvert_exporter": "python",
   "pygments_lexer": "ipython3",
   "version": "3.8.1"
  }
 },
 "nbformat": 4,
 "nbformat_minor": 5
}

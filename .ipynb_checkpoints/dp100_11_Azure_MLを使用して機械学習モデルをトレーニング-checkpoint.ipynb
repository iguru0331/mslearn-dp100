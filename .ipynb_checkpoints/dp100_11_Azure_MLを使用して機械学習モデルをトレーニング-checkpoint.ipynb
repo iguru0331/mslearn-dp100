{
 "cells": [
  {
   "cell_type": "markdown",
   "id": "67e944a6",
   "metadata": {},
   "source": [
    "# dp100_11 Azure MLを使用して機械学習モデルをトレーニングする\n",
    "\n",
    "## トレーニングスクリプトを実行する\n",
    "\n",
    "`ScriptRunConfig`を使用すると、機械学習モデルをトレーニングするスクリプトベースの実験を実行できる。\n",
    "\n",
    "### モデルをトレーニングするためのスクリプトを作成する\n",
    "\n",
    "実験を使用してモデルをトレーニングする場合、スクリプトによって**output**フォルダにトレーニング済みモデルが保存される。  \n",
    "たとえば、次のスクリプトでは、scikit-learnを使用してモデルをトレーニングし、**joblib**パッケージを使用してそれを**output**フォルダに保存する。\n",
    "\n",
    "```\n",
    "from azureml.core import Run\n",
    "import pandas as pd\n",
    "import numpy as np\n",
    "import joblib\n",
    "from sklearn.model_selection import train_test_split\n",
    "from sklearn.linear_model import LogisticRegression\n",
    "\n",
    "# 実験の実行コンテキストの取得\n",
    "run = Run.get_context()\n",
    "\n",
    "# データセットの準備\n",
    "diabetes = pd.read_csv('data.csv')\n",
    "X, y = diabetes[['Feature1','Feature2','Feature3']].values, diabetes['Label'].values\n",
    "X_train, X_test, y_train, y_test = train_test_split(X, y, test_size=0.30)\n",
    "\n",
    "# ロジスティック回帰モデルのトレーニング\n",
    "reg = 0.1\n",
    "model = LogisticRegression(C=1/reg, solver=\"liblinear\").fit(X_train, y_train)\n",
    "\n",
    "# 精度計算\n",
    "y_hat = model.predict(X_test)\n",
    "acc = np.average(y_hat == y_test)\n",
    "run.log('Accuracy', np.float(acc))\n",
    "\n",
    "# トレーニング済みモデルの保存\n",
    "os.makedirs('outputs', exist_ok=True)\n",
    "joblib.dump(value=model, filename='outputs/model.pkl')\n",
    "\n",
    "run.complete()\n",
    "```"
   ]
  },
  {
   "cell_type": "markdown",
   "id": "a32c52ed",
   "metadata": {},
   "source": [
    "モデルをトレーニングする実験を準備するために、このようなスクリプトを作成し、フォルダに保存する。  \n",
    "たとえば、kのスクリプトを**training_folder**という名前のフォルダに**training_script.py**として保存できる。  \n",
    "このスクリプトには**data.csv**からトレーニングデータを読み込むコードが含まれているため、このファイルもそのフォルダに保存する必要がある。"
   ]
  },
  {
   "cell_type": "markdown",
   "id": "12f03caf",
   "metadata": {},
   "source": [
    "### スクリプトを実験として実行する\n",
    "\n",
    "スクリプトを実行するには、フォルダおよびスクリプトファイルを参照する**ScriptRunConfig**を作成する。  \n",
    "通常は、スクリプトに必要なパッケージをすべて含むPython(Conda)環境も定義する必要がある。  \n",
    "この例では、スクリプトにscikit-learnが使用されているので、それを含む環境を作成する必要がある。  \n",
    "またこのスクリプトには、メトリックをロギングするためにAzureMLが使用されているので、**azureml-defaults**パッケージを環境に含めることも忘れないこと。\n",
    "\n",
    "```\n",
    "from azureml.core import Experiment, ScriptRunConfig, Environment\n",
    "from azureml.core.conda_dependencies import CondaDependencies\n",
    "\n",
    "# 実験用のPython環境を構築\n",
    "sklearn_env = Environment(\"sklearn-env\")\n",
    "\n",
    "# 必要なパッケージがインストールされていることを確認\n",
    "packages = CondaDependencies.create(conda_packages=['scikit-learn','pip'],\n",
    "                                    pip_packages=['azureml-defaults'])\n",
    "sklearn_env.python.conda_dependencies = packages\n",
    "\n",
    "# スクリプトコンフィグの作成\n",
    "script_config = ScriptRunConfig(source_directory='training_folder',\n",
    "                                script='training.py',\n",
    "                                environment=sklearn_env) \n",
    "\n",
    "# 実験の実行\n",
    "experiment = Experiment(workspace=ws, name='training-experiment')\n",
    "run = experiment.submit(config=script_config)\n",
    "run.wait_for_completion()\n",
    "```"
   ]
  },
  {
   "cell_type": "markdown",
   "id": "f9603b84",
   "metadata": {},
   "source": [
    "## スクリプトパラメータの使用\n",
    "\n",
    "スクリプトで変数を設定する引数を使用することで、スクリプトベースの実験の柔軟性を高めることができる。\n",
    "\n",
    "### スクリプトの引数を操作する\n",
    "\n",
    "スクリプトでパラメータを使用するには、`argparse`などのライブラリを使用してスクリプトに渡される引数を読み取り、それを変数に代入する必要がある。  \n",
    "たとえば、次のスクリプトでは、`--reg-rate`という名前の引数を読み取る。  \n",
    "これは、モデルのトレーニングに使用されるロジスティック回帰アルゴリズムの正則化項ハイパーパラメータを設定するために使用される。\n",
    "\n",
    "```\n",
    "from azureml.core import Run\n",
    "import argparse\n",
    "import pandas as pd\n",
    "import numpy as np\n",
    "import joblib\n",
    "import os\n",
    "from sklearn.model_selection import train_test_split\n",
    "from sklearn.linear_model import LogisticRegression\n",
    "\n",
    "# 実験の実行コンテキストの取得\n",
    "run = Run.get_context()\n",
    "\n",
    "# 正規化のハイパーパラメータを取得\n",
    "parser = argparse.ArgumentParser()\n",
    "parser.add_argument('--reg-rate', type=float, dest='reg_rate', default=0.01)\n",
    "args = parser.parse_args()\n",
    "reg = args.reg_rate\n",
    "\n",
    "# データセットの準備\n",
    "diabetes = pd.read_csv('data.csv')\n",
    "X, y = data[['Feature1','Feature2','Feature3']].values, data['Label'].values\n",
    "X_train, X_test, y_train, y_test = train_test_split(X, y, test_size=0.30)\n",
    "\n",
    "# ロジスティック回帰モデルのトレーニング\n",
    "model = LogisticRegression(C=1/reg, solver=\"liblinear\").fit(X_train, y_train)\n",
    "\n",
    "# 精度計算\n",
    "y_hat = model.predict(X_test)\n",
    "acc = np.average(y_hat == y_test)\n",
    "run.log('Accuracy', np.float(acc))\n",
    "\n",
    "# トレーニング済みモデルの保存\n",
    "os.makedirs('outputs', exist_ok=True)\n",
    "joblib.dump(value=model, filename='outputs/model.pkl')\n",
    "\n",
    "run.complete()\n",
    "```"
   ]
  },
  {
   "cell_type": "markdown",
   "id": "0ae0ecd5",
   "metadata": {},
   "source": [
    "### 実験スクリプトに引数を渡す\n",
    "\n",
    "実験で実行されているスクリプトにパラメータ値を渡すには、以下のようにコンマ区切りの引数とその値のリストを含む**引数**値を**ScriptRunConfig**に指定する必要がある。\n",
    "\n",
    "```\n",
    "# スクリプトコンフィグの作成\n",
    "script_config = ScriptRunConfig(source_directory='training_folder',\n",
    "                                script='training.py',\n",
    "                                arguments = ['--reg-rate', 0.1],\n",
    "                                environment=sklearn_env)\n",
    "```"
   ]
  },
  {
   "cell_type": "markdown",
   "id": "118daeba",
   "metadata": {},
   "source": [
    "## モデルの登録\n",
    "\n",
    "モデルをトレーニングする実験を実行した後、**Run**オブジェクトへの参照を使用して、その出力をトレーニング済みモデルと共に取得できる。\n",
    "\n",
    "### モデルファイルを取得する\n",
    "\n",
    "実験の実行の完了後、Runオブジェクトの「**get_file_names**メソッドを使用して生成されたファイルを一覧表示できる。  \n",
    "モデルをトレーニングするスクリプトの場合は、これをRunの**outputs**フォルダに保存する方法が標準的。\n",
    "\n",
    "また、Runオブジェクトの**download_file**と**download_files**のメソッドを使用して、  \n",
    "出力ファイルをローカルファイルシステムにダウンロードすることもできる。\n",
    "\n",
    "```\n",
    "# 'run'は完了した実験の実行を意味する\n",
    "\n",
    "# 実験で生成されたファイルをリストアップ\n",
    "for file in run.get_file_names():\n",
    "    print(file)\n",
    "\n",
    "# 名前付きファイルのダウンロード\n",
    "run.download_file(name='outputs/model.pkl', output_file_path='model.pkl')\n",
    "```"
   ]
  },
  {
   "cell_type": "markdown",
   "id": "470e0036",
   "metadata": {},
   "source": [
    "### モデルの登録\n",
    "\n",
    "モデルの登録により、モデルの複数のバージョンを追跡し、推論(新しいデータからラベル地を予測)のモデルを取得できるようになる。  \n",
    "モデルを登録するときに、名前、説明、タグ、フレームワーク(scikit-learnやpytorchなど)、フレームワークのバージョン、カスタムプロパティ、  \n",
    "その他の便利なメタデータを指定できる。  \n",
    "既存のモデルと同じ名前のモデルを登録すると、1から始まり、1ずつ増加する、そのモデルの新しいバージョンが自動的に作成される。\n",
    "\n",
    "ローカルファイルからモデルを登録する場合は、ここに示すように、**Model**オブジェクトの**register**メソッドを使用できる。\n",
    "\n",
    "```\n",
    "from azureml.core import Model\n",
    "\n",
    "model = Model.register(workspace=ws,\n",
    "                       model_name='classification_model',\n",
    "                       model_path='model.pkl', # local path\n",
    "                       description='A classification model',\n",
    "                       tags={'data-format': 'CSV'},\n",
    "                       model_framework=Model.Framework.SCIKITLEARN,\n",
    "                       model_framework_version='0.20.3')\n",
    "```\n",
    "\n",
    "また、モデルのトレーニングに使用された**Run**への参照がある場合は、ここに示すように**register_model**メソッドを使用できる。\n",
    "\n",
    "```\n",
    "run.register_model( model_name='classification_model',\n",
    "                    model_path='outputs/model.pkl', # run outputs path\n",
    "                    description='A classification model',\n",
    "                    tags={'data-format': 'CSV'},\n",
    "                    model_framework=Model.Framework.SCIKITLEARN,\n",
    "                    model_framework_version='0.20.3')\n",
    "```"
   ]
  },
  {
   "cell_type": "markdown",
   "id": "9c881304",
   "metadata": {},
   "source": [
    "### 登録済みモデルを表示する\n",
    "\n",
    "AzureMLスタジオでは、登録済みモデルを表示できる。  \n",
    "**Model**オブジェクトを使用して、次のような登録済みモデルの詳細を取得することもできる。\n",
    "\n",
    "```\n",
    "from azureml.core import Model\n",
    "\n",
    "for model in Model.list(ws):\n",
    "    # Get model name and auto-generated version\n",
    "    print(model.name, 'version:', model.version)\n",
    "```"
   ]
  },
  {
   "cell_type": "markdown",
   "id": "0be57fca",
   "metadata": {},
   "source": [
    "## 演習 モデルのトレーニングと登録\n",
    "\n",
    "AzureMLでは、スクリプトを使用して、scikit-learn、tensorflow、pytorch、sparkMLなどの、  \n",
    "一般的な機械学習フレームワークを活用してモデルをトレーニングできる。  \n",
    "これらの学習スクリプトを実験として実行することで、学習したモデルを含むメトリックやアウトプットを追跡することができる。\n",
    "\n",
    "### ワークスペースへの接続"
   ]
  },
  {
   "cell_type": "code",
   "execution_count": 1,
   "id": "0b196517",
   "metadata": {},
   "outputs": [
    {
     "name": "stdout",
     "output_type": "stream",
     "text": [
      "Ready to use Azure ML 1.28.0 to work with 20210613\n"
     ]
    }
   ],
   "source": [
    "import azureml.core\n",
    "from azureml.core import Workspace\n",
    "\n",
    "# Load the workspace from the saved config file\n",
    "ws = Workspace.from_config()\n",
    "print('Ready to use Azure ML {} to work with {}'.format(azureml.core.VERSION, ws.name))"
   ]
  },
  {
   "cell_type": "markdown",
   "id": "561601b3",
   "metadata": {},
   "source": [
    "### トレーニングスクリプトの作成\n",
    "\n",
    "Pythonスクリプトを使い、糖尿病データを元に機械学習モデルを学習することになるので、まずはスクリプトとデータファイルを置くフォルダを作成する。"
   ]
  },
  {
   "cell_type": "code",
   "execution_count": 2,
   "id": "d795252e",
   "metadata": {},
   "outputs": [
    {
     "data": {
      "text/plain": [
       "'diabetes-training/diabetes.csv'"
      ]
     },
     "execution_count": 2,
     "metadata": {},
     "output_type": "execute_result"
    }
   ],
   "source": [
    "import os, shutil\n",
    "\n",
    "# Create a folder for the experiment files\n",
    "training_folder = 'diabetes-training'\n",
    "os.makedirs(training_folder, exist_ok=True)\n",
    "\n",
    "# Copy the data file into the experiment folder\n",
    "shutil.copy('data/diabetes.csv', os.path.join(training_folder, \"diabetes.csv\"))"
   ]
  },
  {
   "cell_type": "markdown",
   "id": "9cc229ec",
   "metadata": {},
   "source": [
    "トレーニングスクリプトを作成する。"
   ]
  },
  {
   "cell_type": "code",
   "execution_count": 3,
   "id": "5c72e54d",
   "metadata": {},
   "outputs": [
    {
     "name": "stdout",
     "output_type": "stream",
     "text": [
      "Writing diabetes-training/diabetes_training.py\n"
     ]
    }
   ],
   "source": [
    "%%writefile $training_folder/diabetes_training.py\n",
    "# Import libraries\n",
    "from azureml.core import Run\n",
    "import pandas as pd\n",
    "import numpy as np\n",
    "import joblib\n",
    "import os\n",
    "from sklearn.model_selection import train_test_split\n",
    "from sklearn.linear_model import LogisticRegression\n",
    "from sklearn.metrics import roc_auc_score\n",
    "from sklearn.metrics import roc_curve\n",
    "\n",
    "# 実験の実行コンテキストの作成\n",
    "run = Run.get_context()\n",
    "\n",
    "# 糖尿病データの読み込み\n",
    "print(\"Loading Data...\")\n",
    "diabetes = pd.read_csv('diabetes.csv')\n",
    "\n",
    "# 特徴量とラベルの分離\n",
    "X, y = diabetes[['Pregnancies','PlasmaGlucose','DiastolicBloodPressure','TricepsThickness','SerumInsulin','BMI','DiabetesPedigree','Age']].values, diabetes['Diabetic'].values\n",
    "\n",
    "# 訓練データとテストデータの分割\n",
    "X_train, X_test, y_train, y_test = train_test_split(X, y, test_size=0.30, random_state=0)\n",
    "\n",
    "# 正規化用ハイパーパラメータの設定\n",
    "reg = 0.01\n",
    "\n",
    "# ロジスティック回帰モデルの訓練\n",
    "print('Training a logistic regression model with regularization rate of', reg)\n",
    "run.log('Regularization Rate',  np.float(reg))\n",
    "model = LogisticRegression(C=1/reg, solver=\"liblinear\").fit(X_train, y_train)\n",
    "\n",
    "# 精度計算\n",
    "y_hat = model.predict(X_test)\n",
    "acc = np.average(y_hat == y_test)\n",
    "print('Accuracy:', acc)\n",
    "run.log('Accuracy', np.float(acc))\n",
    "\n",
    "# AUC計算\n",
    "y_scores = model.predict_proba(X_test)\n",
    "auc = roc_auc_score(y_test,y_scores[:,1])\n",
    "print('AUC: ' + str(auc))\n",
    "run.log('AUC', np.float(auc))\n",
    "\n",
    "# 出力フォルダへ訓練済みモデルを保存\n",
    "os.makedirs('outputs', exist_ok=True)\n",
    "joblib.dump(value=model, filename='outputs/diabetes_model.pkl')\n",
    "\n",
    "run.complete()"
   ]
  },
  {
   "cell_type": "markdown",
   "id": "15b98ba7",
   "metadata": {},
   "source": [
    "### トレーニングスクリプトを実験として実行する"
   ]
  },
  {
   "cell_type": "code",
   "execution_count": null,
   "id": "cd4814d2",
   "metadata": {},
   "outputs": [],
   "source": []
  }
 ],
 "metadata": {
  "kernelspec": {
   "display_name": "Python 3.8 - AzureML",
   "language": "python",
   "name": "python38-azureml"
  },
  "language_info": {
   "codemirror_mode": {
    "name": "ipython",
    "version": 3
   },
   "file_extension": ".py",
   "mimetype": "text/x-python",
   "name": "python",
   "nbconvert_exporter": "python",
   "pygments_lexer": "ipython3",
   "version": "3.8.1"
  }
 },
 "nbformat": 4,
 "nbformat_minor": 5
}

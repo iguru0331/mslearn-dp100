{
 "cells": [
  {
   "cell_type": "markdown",
   "id": "3baf5c4a",
   "metadata": {},
   "source": [
    "# dp100_15 リアルタイム機械学習サービスのデプロイ"
   ]
  },
  {
   "cell_type": "markdown",
   "id": "d6bd6b36",
   "metadata": {},
   "source": [
    "- AzureMLでは、Azure Kubernetes Service(AKS)などのコンテナー化されたプラットフォームでホストされるサービスとして.   \n",
    "モデルをデプロイすることで、リアルタイムの推論ソリューションを作成できる。\n",
    "- テストや開発ではACIへデプロイが適している\n",
    "- 予測を返すためのエントリスクリプトの作成が必要\n",
    "    - `init()` : サービスの初期化で呼び出し\n",
    "        - モデルの読み込みを行う\n",
    "    - `run(raw_data)` : 新しいデータがサービスに送信された時\n",
    "        - 入力データから予測の生成\n",
    "    - `InferenceConfig`でスクリプトと環境を組み合わせることもできる\n",
    "- コンピューティングターゲット作成したら、AKSでデプロしたいなら`AksWebservice.deploy_configuration`でデプロイ構成を定義できる\n",
    "    - ACIでやりたい場合は`AciWebservice.deploy_configuration`\n",
    "- デプロイは`Model.deploy`で行い、完了までは`service.wait_for_deployment`で監視できる\n",
    "- Webサービス使いたい時はRESTエンドポイントを利用する\n",
    "    - `service.scoring_uri`でエンドポイントURIがわかる\n",
    "    - 認証キーは`service.get_keys()`\n",
    "- サービス状態見たい場合、`service.state`でステータス確認できる\n",
    "    - ログを見たい場合は`service.get_logs()`\n",
    "- ローカルコンテナにデプロイする時は`LocalWebservice.deploy_configuration()`\n",
    "- サービスを削除する時は`service.delete()`"
   ]
  },
  {
   "cell_type": "markdown",
   "id": "353f4938",
   "metadata": {},
   "source": [
    "モデルをサービスとして公開することについての詳細情報 : https://docs.microsoft.com/azure/machine-learning/how-to-deploy-and-where"
   ]
  }
 ],
 "metadata": {
  "kernelspec": {
   "display_name": "Python 3.8 - AzureML",
   "language": "python",
   "name": "python38-azureml"
  },
  "language_info": {
   "codemirror_mode": {
    "name": "ipython",
    "version": 3
   },
   "file_extension": ".py",
   "mimetype": "text/x-python",
   "name": "python",
   "nbconvert_exporter": "python",
   "pygments_lexer": "ipython3",
   "version": "3.8.1"
  }
 },
 "nbformat": 4,
 "nbformat_minor": 5
}

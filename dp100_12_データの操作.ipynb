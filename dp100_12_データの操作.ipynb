{
 "cells": [
  {
   "cell_type": "markdown",
   "id": "db0cc722",
   "metadata": {},
   "source": [
    "# dp100_12 データの操作\n",
    "\n",
    "## データストアの概要\n",
    "\n",
    "- データストア : データの置き場、SDKからアップロードしたりダウンロードしたり\n",
    "- データストアの種類\n",
    "    - Azure Storage(BLOBおよびファイルコンテナ)\n",
    "    - Azure Data Lake Store\n",
    "    - Azure SQLデータベース\n",
    "    - Azure Databricksファイルシステム(DBFS)\n",
    "- `Datastore`をインポート後、`Workspace.datastores`でデータストア一覧を表示できる\n",
    "- `Datastore.register_azure_blob_countainer`でAzure Storage BLOBコンテナをデータストアとして登録\n",
    "- `Datastore.get(ws, datastore_name='データストア名')`で任意のデータストア参照できる\n",
    "- `ws.get_default_datastore()`で規定のデータストアを取得\n",
    "    - `ws.set_default_datastore('データストア名')`で規定のデータストアを変更できる\n",
    "- `Datastore.upload_files()`でcsvファイルをデータストアへアップロードできる"
   ]
  },
  {
   "cell_type": "markdown",
   "id": "c110b7ca",
   "metadata": {},
   "source": [
    "### データセットの作成と登録\n",
    "\n",
    "- 表形式\n",
    "    - 表形式データセットをデータストアからデータセット取得\n",
    "        - `Dataset.Tabular.from_delimited_files(path=(Datastore, 'csvファイル名'))`\n",
    "    - 表形式データセットの登録\n",
    "        - `Tabular_dataset.register(workspace=ws, name='データセット名'`)\n",
    "- ファイル\n",
    "    - ファイルデータセットをデータストアから読み込む。\n",
    "        - `Dataset.File.from_files(path=(Datastore, 'ファイルパス'))`\n",
    "    - ファイルデータセットの登録\n",
    "        - `File_dataset.register(workspace=ws, name='データセット名')`\n",
    "        - 新しいバージョンで登録する時は`create_new_version=True`"
   ]
  },
  {
   "cell_type": "markdown",
   "id": "748b62cc",
   "metadata": {},
   "source": [
    "### 登録済みのデータセットの取得\n",
    "\n",
    "- 2パターンの方法で取得できる\n",
    "    - `ws.datasets['データセット名']`でワークベース内のデータセットから取得\n",
    "    - `Dataset.get_by_name`または`get_by_id`でデータセットから直接取得\n",
    "        - バージョン指定したい場合は`get_by_name(workspace=ws, name='file', version=x)`\n",
    "        \n",
    "### データセットの使用\n",
    "\n",
    "- 表形式の場合\n",
    "    - `df=Tabular_dataset.to_pandas_dataframe()`でDataframeと同様に使える\n",
    "    - スクリプトで読み込ませる場合、`arguments`を引数にして`dataset = Dataset.get_by_id(ws, id=args.dataset_id)`\n",
    "    - 名前付き入力だと、ScriptRunConfigは`as_named_input`を引数にして`dataset = run.input_datasets['my_dataset']`\n",
    "\n",
    "- ファイルデータセットの場合\n",
    "    - `File_dataset.to_path()`でファイルパスのリストを返す\n",
    "    - ScriptRunConfigの引数にはモードを指定する必要がある\n",
    "        - `as_download` : 基本的にはこっち、テンポラリフォルダにコピーされる\n",
    "        - `as_mount` : 容量がでかい場合こっち、直接ソースからストリーミング\n",
    "    - スクリプト内では、ファイルパスのように使う\n",
    "    - 名前付き入力だと、ScriptRunConfigは`as_named_input`を引数にして`dataset = run.input_datasets['my_ds']`"
   ]
  },
  {
   "cell_type": "markdown",
   "id": "3a31b7fc",
   "metadata": {},
   "source": [
    "詳細ドキュメントURL:https://docs.microsoft.com/azure/machine-learning/how-to-train-with-datasets"
   ]
  }
 ],
 "metadata": {
  "kernelspec": {
   "display_name": "Python 3.8 - AzureML",
   "language": "python",
   "name": "python38-azureml"
  },
  "language_info": {
   "codemirror_mode": {
    "name": "ipython",
    "version": 3
   },
   "file_extension": ".py",
   "mimetype": "text/x-python",
   "name": "python",
   "nbconvert_exporter": "python",
   "pygments_lexer": "ipython3",
   "version": "3.8.1"
  }
 },
 "nbformat": 4,
 "nbformat_minor": 5
}

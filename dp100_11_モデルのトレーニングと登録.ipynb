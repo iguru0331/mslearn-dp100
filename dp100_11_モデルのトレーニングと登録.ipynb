{
 "cells": [
  {
   "cell_type": "markdown",
   "id": "af4f3950",
   "metadata": {},
   "source": [
    "# dp100_11 Azure MLを使用して機械学習モデルをトレーニングする\n",
    "\n",
    "## トレーニングスクリプトを実行する\n",
    "\n",
    "- スクリプトにはトレーニング済みモデルを保存するコードを入れておき、`run.log`で精度計算結果をロギング\n",
    "    - `joblib.dump(value=model, filename='outputs/model.pkl')`\n",
    "- `ScriptRunConfig`で実行するスクリプト、環境、ディレクトリを指定する\n",
    "- ハイパーパラメータ調整したい場合、`argparse`を用いて引数で渡すことも可能\n",
    "    - `ScriptRunConfig`に引数`arguments = ['--reg-rate', 0.1]`"
   ]
  },
  {
   "cell_type": "markdown",
   "id": "dd677dff",
   "metadata": {
    "jupyter": {
     "source_hidden": true
    }
   },
   "source": [
    "### スクリプト\n",
    "\n",
    "```\n",
    "from azureml.core import Run\n",
    "import argparse\n",
    "import pandas as pd\n",
    "import numpy as np\n",
    "import joblib\n",
    "import os\n",
    "from sklearn.model_selection import train_test_split\n",
    "from sklearn.linear_model import LogisticRegression\n",
    "\n",
    "# 実験の実行コンテキストの取得\n",
    "run = Run.get_context()\n",
    "\n",
    "# 正規化のハイパーパラメータを取得\n",
    "parser = argparse.ArgumentParser()\n",
    "parser.add_argument('--reg-rate', type=float, dest='reg_rate', default=0.01)\n",
    "args = parser.parse_args()\n",
    "reg = args.reg_rate\n",
    "\n",
    "# データセットの準備\n",
    "diabetes = pd.read_csv('data.csv')\n",
    "X, y = data[['Feature1','Feature2','Feature3']].values, data['Label'].values\n",
    "X_train, X_test, y_train, y_test = train_test_split(X, y, test_size=0.30)\n",
    "\n",
    "# ロジスティック回帰モデルのトレーニング\n",
    "model = LogisticRegression(C=1/reg, solver=\"liblinear\").fit(X_train, y_train)\n",
    "\n",
    "# 精度計算\n",
    "y_hat = model.predict(X_test)\n",
    "acc = np.average(y_hat == y_test)\n",
    "run.log('Accuracy', np.float(acc))\n",
    "\n",
    "# トレーニング済みモデルの保存\n",
    "os.makedirs('outputs', exist_ok=True)\n",
    "joblib.dump(value=model, filename='outputs/model.pkl')\n",
    "\n",
    "run.complete()\n",
    "```\n",
    "\n",
    "### ScriptRunConfig\n",
    "\n",
    "```\n",
    "# スクリプトコンフィグの作成\n",
    "script_config = ScriptRunConfig(source_directory='training_folder',\n",
    "                                script='training.py',\n",
    "                                arguments = ['--reg-rate', 0.1],\n",
    "                                environment=sklearn_env)\n",
    "```"
   ]
  },
  {
   "cell_type": "markdown",
   "id": "405fb29d",
   "metadata": {},
   "source": [
    "## モデルの登録\n",
    "\n",
    "- モデルをpikleでダンプしておけば、`download_files`メソッドでローカルシステムにダウンロードできる\n",
    "- ダンプしたpikleファイルをモデルとして登録することができる。\n",
    "    - プロパティに精度など入れておくと管理しやすい\n",
    "    - ローカルファイルからモデルを登録するなら、`Model.register()`\n",
    "    - モデル実行した**Run**への参照先があるなら、`Run.register_model()`\n",
    "- `Model.list(Workspace)`で登録済みモデルを表示できる"
   ]
  },
  {
   "cell_type": "markdown",
   "id": "c433b84c",
   "metadata": {
    "jupyter": {
     "source_hidden": true
    }
   },
   "source": [
    "### モデルファイルを取得する\n",
    "\n",
    "```\n",
    "# 'run'は完了した実験の実行を意味する\n",
    "\n",
    "# 実験で生成されたファイルをリストアップ\n",
    "for file in run.get_file_names():\n",
    "    print(file)\n",
    "\n",
    "# 名前付きファイルのダウンロード\n",
    "run.download_file(name='outputs/model.pkl', output_file_path='model.pkl')\n",
    "```\n",
    "\n",
    "モデルの登録により、モデルの複数のバージョンを追跡し、推論(新しいデータからラベル地を予測)のモデルを取得できるようになる。  \n",
    "モデルを登録するときに、名前、説明、タグ、フレームワーク(scikit-learnやpytorchなど)、フレームワークのバージョン、カスタムプロパティ、  \n",
    "その他の便利なメタデータを指定できる。  \n",
    "既存のモデルと同じ名前のモデルを登録すると、1から始まり、1ずつ増加する、そのモデルの新しいバージョンが自動的に作成される。\n",
    "\n",
    "ローカルファイルからモデルを登録する場合は、ここに示すように、**Model**オブジェクトの**register**メソッドを使用できる。\n",
    "\n",
    "```\n",
    "from azureml.core import Model\n",
    "\n",
    "model = Model.register(workspace=ws,\n",
    "                       model_name='classification_model',\n",
    "                       model_path='model.pkl', # local path\n",
    "                       description='A classification model',\n",
    "                       tags={'data-format': 'CSV'},\n",
    "                       model_framework=Model.Framework.SCIKITLEARN,\n",
    "                       model_framework_version='0.20.3')\n",
    "```\n",
    "\n",
    "また、モデルのトレーニングに使用された**Run**への参照がある場合は、ここに示すように**register_model**メソッドを使用できる。\n",
    "\n",
    "```\n",
    "run.register_model( model_name='classification_model',\n",
    "                    model_path='outputs/model.pkl', # run outputs path\n",
    "                    description='A classification model',\n",
    "                    tags={'data-format': 'CSV'},\n",
    "                    model_framework=Model.Framework.SCIKITLEARN,\n",
    "                    model_framework_version='0.20.3')\n",
    "                    \n",
    "run.register_model(model_path='outputs/diabetes_model.pkl', model_name='diabetes_model',\n",
    "                   tags={'Training context':'Parameterized script'},\n",
    "                   properties={'AUC': run.get_metrics()['AUC'], 'Accuracy': run.get_metrics()['Accuracy']})\n",
    "```"
   ]
  },
  {
   "cell_type": "markdown",
   "id": "046e69cf",
   "metadata": {
    "jupyter": {
     "source_hidden": true
    }
   },
   "source": [
    "### 登録済みモデルを表示する\n",
    "\n",
    "AzureMLスタジオでは、登録済みモデルを表示できる。  \n",
    "**Model**オブジェクトを使用して、次のような登録済みモデルの詳細を取得することもできる。\n",
    "\n",
    "```\n",
    "from azureml.core import Model\n",
    "\n",
    "for model in Model.list(ws):\n",
    "    # Get model name and auto-generated version\n",
    "    print(model.name, 'version:', model.version)\n",
    "```"
   ]
  }
 ],
 "metadata": {
  "kernelspec": {
   "display_name": "Python 3.8 - AzureML",
   "language": "python",
   "name": "python38-azureml"
  },
  "language_info": {
   "codemirror_mode": {
    "name": "ipython",
    "version": 3
   },
   "file_extension": ".py",
   "mimetype": "text/x-python",
   "name": "python",
   "nbconvert_exporter": "python",
   "pygments_lexer": "ipython3",
   "version": "3.8.1"
  }
 },
 "nbformat": 4,
 "nbformat_minor": 5
}
